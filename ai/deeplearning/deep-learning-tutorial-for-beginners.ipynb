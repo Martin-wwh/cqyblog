{
 "cells": [
  {
   "cell_type": "markdown",
   "metadata": {
    "_cell_guid": "6f7e7923-bf6d-4e89-a4d2-601f11648598",
    "_uuid": "a5f2d3f6246fe1c767e3b9469c17d1bf09c04708"
   },
   "source": [
    "<font color='green'>\n",
    "\n",
    "**Welcome to Deep Learning Tutorial for Beginners**\n",
    "\n",
    "**欢迎访问初学者的深度学习指南**\n",
    "\n",
    "** [kaggle 英文原版](https://www.kaggle.com/kanncaa1/deep-learning-tutorial-for-beginners) **\n",
    "** 作者: [DATAI](https://www.kaggle.com/kanncaa1) **\n",
    "* 我会一条条把深度学习解释清楚。\n",
    "* 我没有去写长而难读的章节，相反我会定义和反复强调一条条的关键词。\n",
    "* 在这条指南的结尾，你会得到充足的深度学习的相关的信息，以便进一步深入了解。让我们开始看正文吧。\n",
    "\n",
    "** 翻译: [陈沁悦](https://www.kaggle.com/qinyuechen) **\n",
    "** 本文是根据原文翻译的，代表的是作者观点 **\n",
    "** 译者注是译者自己的个人观点和业余活动，不代表本人供职公司的观点 **\n",
    "** 本文纯属个人业余翻译，无偿分享，不承担由此造成的连带责任 **\n",
    "** 翻译的目的：已经工作十五年了，作为工程师，还是喜欢直接动手上code,而不是看书，看算法。这篇notebook 弄下来，基本上就把深度学习简单过了一遍，再回头看书事半功倍。我还在某些特定术语和库上加了我搜索的结果，和我的理解，希望可以让你看起来事半功倍。**\n",
    "\n",
    "** 你可以在kaggle上玩这个notebook, 也可以到[我的github仓库](https://github.com/hugulas/cqyblog/blob/master/ai/deeplearning/deep-learning-tutorial-for-beginners.ipynb)下载中文版下来玩。**\n",
    "\n",
    "\n",
    "<font color='red'>\n",
    "<br>正文:\n",
    "* [介绍](#1)\n",
    "* [数据集概览](#2)\n",
    "* [逻辑回归](#3)\n",
    "    * [计算图](#4)\n",
    "    * [初始化参数](#5)\n",
    "    * [前向传播](#6)\n",
    "        * 激化函数 Sigmoid\n",
    "        * 损失函数 Loss(error) Function\n",
    "        * 代价函数 Cost Function\n",
    "    * [用梯度下降优化算法](#7)\n",
    "        * 后向传播\n",
    "        * 更新参数\n",
    "    * [用Sklearn做逻辑回归](#8)\n",
    "    * [总结和提问](#9)\n",
    "    \n",
    "* [人工神经网络](#10)\n",
    "    * [2层神经网络](#11)\n",
    "        * [层数和初始化权重和偏置值参数](#12)\n",
    "        * [前向传播](#13)\n",
    "        * [损失函数和代价函数](#14)\n",
    "        * [后向传播](#15)\n",
    "        * [更新参数](#16)\n",
    "        * [用学习到的权重和偏置值参数做预测](#17)\n",
    "        * [创建模型](#18)\n",
    "    * [L层神经网络](#19)\n",
    "        * [用keras库实现](#22)\n",
    "* 时间序列预测: https://www.kaggle.com/kanncaa1/time-series-prediction-with-eda-of-world-war-2\n",
    "* [用Pytorch库的人工神经网络](#23)\n",
    "* [用Pytorch库的卷积神经网络](#24)\n",
    "* [用Pytorch库的循环神经网络](#25)\n",
    "* [结论](#20)\n",
    "\n"
   ]
  },
  {
   "cell_type": "markdown",
   "metadata": {
    "_cell_guid": "036bf2c0-c146-4c70-b29d-206db0fe91b0",
    "_uuid": "01d54760756dd2bc5c2a309f2862833c079a3303"
   },
   "source": [
    "<a id=\"1\"></a> <br>\n",
    "# INTRODUCTION\n",
    "# 介绍\n",
    "* **深度学习:**  一种从数据中直接学习特性的机器学习的技术\n",
    "* **为什么深度学习:** 随着数据总量不断增长，机器学习的性能就不那么好了，而深度学习提供了更好的性能，比如更准确。\n",
    "<a href=\"http://ibb.co/m2bxcc\"><img src=\"http://preview.ibb.co/d3CEOH/1.png\" alt=\"1\" border=\"0\"></a>\n",
    "* **什么是大量:** 这一点并不容易回答，但是直觉上100万个样本足以称为”大量的数据“\n",
    "* **深度学习的使用领域：** 语音识别，图像分类，自然语言处理或者推荐系统\n",
    "* **机器学习和深度学习的区别：** \n",
    "    * 机器学习包含了深度学习。 \n",
    "    * 机器学习的特征需要手工生成。\n",
    "    * 而另一面，深度学习的特征是直接从数据中获得。\n",
    "<a href=\"http://ibb.co/f8Epqx\"><img src=\"http://preview.ibb.co/hgpNAx/2.png\" alt=\"2\" border=\"0\"></a>\n",
    "\n",
    "<br>让我们来看看数据吧。"
   ]
  },
  {
   "cell_type": "code",
   "execution_count": 102,
   "metadata": {
    "_cell_guid": "6fe1e8d5-b36d-4e39-9a9b-34618b5e275e",
    "_uuid": "79f18357b846d2cd91e0f7b2389e1dba8097cbdb"
   },
   "outputs": [
    {
     "ename": "CalledProcessError",
     "evalue": "Command '['ls', '../input']' returned non-zero exit status 2.",
     "output_type": "error",
     "traceback": [
      "\u001b[0;31m---------------------------------------------------------------------------\u001b[0m",
      "\u001b[0;31mCalledProcessError\u001b[0m                        Traceback (most recent call last)",
      "\u001b[0;32m<ipython-input-102-67e0ad0764b3>\u001b[0m in \u001b[0;36m<module>\u001b[0;34m()\u001b[0m\n\u001b[1;32m     15\u001b[0m \u001b[0;32mfrom\u001b[0m \u001b[0msubprocess\u001b[0m \u001b[0;32mimport\u001b[0m \u001b[0mcheck_output\u001b[0m\u001b[0;34m\u001b[0m\u001b[0;34m\u001b[0m\u001b[0m\n\u001b[1;32m     16\u001b[0m \u001b[0;31m# 如果是 kaggle 环境\u001b[0m\u001b[0;34m\u001b[0m\u001b[0;34m\u001b[0m\u001b[0;34m\u001b[0m\u001b[0m\n\u001b[0;32m---> 17\u001b[0;31m \u001b[0mprint\u001b[0m\u001b[0;34m(\u001b[0m\u001b[0mcheck_output\u001b[0m\u001b[0;34m(\u001b[0m\u001b[0;34m[\u001b[0m\u001b[0;34m\"ls\"\u001b[0m\u001b[0;34m,\u001b[0m \u001b[0;34m\"../input\"\u001b[0m\u001b[0;34m]\u001b[0m\u001b[0;34m)\u001b[0m\u001b[0;34m.\u001b[0m\u001b[0mdecode\u001b[0m\u001b[0;34m(\u001b[0m\u001b[0;34m\"utf8\"\u001b[0m\u001b[0;34m)\u001b[0m\u001b[0;34m)\u001b[0m\u001b[0;34m\u001b[0m\u001b[0;34m\u001b[0m\u001b[0m\n\u001b[0m\u001b[1;32m     18\u001b[0m \u001b[0;31m# 如果是 github 下载的，你需要自己下载[Sign-language-digits数据集](https://www.kaggle.com/ardamavi/sign-language-digits-dataset)\u001b[0m\u001b[0;34m\u001b[0m\u001b[0;34m\u001b[0m\u001b[0;34m\u001b[0m\u001b[0m\n\u001b[1;32m     19\u001b[0m \u001b[0;31m#print(check_output([\"ls\", \"input\"]).decode(\"utf8\"))\u001b[0m\u001b[0;34m\u001b[0m\u001b[0;34m\u001b[0m\u001b[0;34m\u001b[0m\u001b[0m\n",
      "\u001b[0;32m/usr/lib/python3.6/subprocess.py\u001b[0m in \u001b[0;36mcheck_output\u001b[0;34m(timeout, *popenargs, **kwargs)\u001b[0m\n\u001b[1;32m    354\u001b[0m \u001b[0;34m\u001b[0m\u001b[0m\n\u001b[1;32m    355\u001b[0m     return run(*popenargs, stdout=PIPE, timeout=timeout, check=True,\n\u001b[0;32m--> 356\u001b[0;31m                **kwargs).stdout\n\u001b[0m\u001b[1;32m    357\u001b[0m \u001b[0;34m\u001b[0m\u001b[0m\n\u001b[1;32m    358\u001b[0m \u001b[0;34m\u001b[0m\u001b[0m\n",
      "\u001b[0;32m/usr/lib/python3.6/subprocess.py\u001b[0m in \u001b[0;36mrun\u001b[0;34m(input, timeout, check, *popenargs, **kwargs)\u001b[0m\n\u001b[1;32m    436\u001b[0m         \u001b[0;32mif\u001b[0m \u001b[0mcheck\u001b[0m \u001b[0;32mand\u001b[0m \u001b[0mretcode\u001b[0m\u001b[0;34m:\u001b[0m\u001b[0;34m\u001b[0m\u001b[0;34m\u001b[0m\u001b[0m\n\u001b[1;32m    437\u001b[0m             raise CalledProcessError(retcode, process.args,\n\u001b[0;32m--> 438\u001b[0;31m                                      output=stdout, stderr=stderr)\n\u001b[0m\u001b[1;32m    439\u001b[0m     \u001b[0;32mreturn\u001b[0m \u001b[0mCompletedProcess\u001b[0m\u001b[0;34m(\u001b[0m\u001b[0mprocess\u001b[0m\u001b[0;34m.\u001b[0m\u001b[0margs\u001b[0m\u001b[0;34m,\u001b[0m \u001b[0mretcode\u001b[0m\u001b[0;34m,\u001b[0m \u001b[0mstdout\u001b[0m\u001b[0;34m,\u001b[0m \u001b[0mstderr\u001b[0m\u001b[0;34m)\u001b[0m\u001b[0;34m\u001b[0m\u001b[0;34m\u001b[0m\u001b[0m\n\u001b[1;32m    440\u001b[0m \u001b[0;34m\u001b[0m\u001b[0m\n",
      "\u001b[0;31mCalledProcessError\u001b[0m: Command '['ls', '../input']' returned non-zero exit status 2."
     ]
    }
   ],
   "source": [
    "# 我们这个 notebook 使用的python3的环境安装了很多有用的用于数据分析的库\n",
    "# 这个环境被封装成docker镜像\"kaggle/python\"：https://github.com/kaggle/docker-python\n",
    "# 比如，我们在这里载入几个有用的库\n",
    "\n",
    "import numpy as np # linear algebra 线性代数库\n",
    "import pandas as pd # data processing, CSV file I/O (e.g. pd.read_csv) 数据处理，CSV 文件 I/O\n",
    "import matplotlib.pyplot as plt\n",
    "\n",
    "# 数据输入文件在\"../input/\"目录中\n",
    "# 比如调用下面的代码会列出输入目录中的文件(通过点击 run 按钮 或者 按下快捷键 Shift+Enter)\n",
    "# 载入 warning 库\n",
    "import warnings\n",
    "# 过滤警告\n",
    "warnings.filterwarnings('ignore')\n",
    "from subprocess import check_output\n",
    "# 如果是 kaggle 环境\n",
    "print(check_output([\"ls\", \"../input\"]).decode(\"utf8\"))\n",
    "# 如果是 github 下载的，你需要自己下载[Sign-language-digits数据集](https://www.kaggle.com/ardamavi/sign-language-digits-dataset)\n",
    "#print(check_output([\"ls\", \"input\"]).decode(\"utf8\"))\n",
    "# 你写到 input目录中的文件都会被打印在下方。"
   ]
  },
  {
   "cell_type": "markdown",
   "metadata": {
    "_cell_guid": "62bb7abd-122c-4f87-97ad-eb203e9dea1f",
    "_uuid": "3e3e94ca5c9349ac36416482d30af378966c7a8a"
   },
   "source": [
    "<a id=\"2\"></a> <br>\n",
    "# 数据集概览\n",
    "* 我们将会在本指南中使用 \"sign language digits data set\" （数字符合语音数据集） \n",
    "* 在这个数据中有2062张用手势表示的数字符号图片\n",
    "* 大家都知道数字是从0到9, 因此有10个数字符号。\n",
    "* 在本文一开始，我们简化成只有0和1两个数字符号。 \n",
    "* 在数据集中，符号0相关的图像的索引在204到408之间。 符号0的数量有205个。\n",
    "* 同时符号1在822到1028之间。符号1的数量是206个。因此，我们每种符号各自使用205个样本。\n",
    "* 说明：实际上对于深度学习来说，205个样本还是非常非常地少的。但是，作为一份指南，这影响不大。\n",
    "* 让我们准备好我们的X和Y数组。X是由符号1和符号0的手势图像组成的数组, Y是标签数组（0和1)。"
   ]
  },
  {
   "cell_type": "code",
   "execution_count": 73,
   "metadata": {
    "_cell_guid": "4768ce70-3e7f-4ac9-8764-642e88006b77",
    "_uuid": "d6b38399b27c2d723750c0b4f8787a7d6d0025ea"
   },
   "outputs": [
    {
     "data": {
      "text/plain": [
       "(-0.5, 63.5, 63.5, -0.5)"
      ]
     },
     "execution_count": 73,
     "metadata": {},
     "output_type": "execute_result"
    },
    {
     "data": {
      "image/png": "[encoded data removed]",
      "text/plain": [
       "<matplotlib.figure.Figure at 0x3ff9bb35208>"
      ]
     },
     "metadata": {},
     "output_type": "display_data"
    }
   ],
   "source": [
    "# 译者注：载入npy格式的数组文件，这是numpy存储数组的一种格式\n",
    "# 如果是 kaggle 环境\n",
    "x_l = np.load('input/Sign-language-digits-dataset/X.npy')\n",
    "Y_l = np.load('input/Sign-language-digits-dataset/Y.npy')\n",
    "# 如果是 github 下载的，\n",
    "#x_l = np.load('input/Sign-language-digits-dataset/X.npy')\n",
    "# Y_l = np.load('input/Sign-language-digits-dataset/Y.npy')\n",
    "img_size = 64\n",
    "plt.subplot(1, 3, 1)\n",
    "# 译者注：大家可以通过改变x_l序号，看看不同手势符号\n",
    "# 符号0图片\n",
    "plt.imshow(x_l[205].reshape(img_size, img_size))\n",
    "plt.axis('off')\n",
    "plt.subplot(1, 3, 2)\n",
    "# 符号1图片\n",
    "plt.imshow(x_l[823].reshape(img_size, img_size))\n",
    "plt.axis('off')\n",
    "plt.subplot(1, 3, 3)\n",
    "# 译者注：符号3图片，你还可以试试其他序号\n",
    "plt.imshow(x_l[1].reshape(img_size, img_size))\n",
    "plt.axis('off')"
   ]
  },
  {
   "cell_type": "markdown",
   "metadata": {
    "_cell_guid": "1c9cf8f2-f318-4f69-b92e-9c1bfe78c2c7",
    "_uuid": "c12d1854c6f5fb43c8f081083a441585ed48dc93"
   },
   "source": [
    "* 为了创建图像数组，我把0和1的数组连接到一起。\n",
    "* 然后我为符号0图像数组创建了标签数组z，为符号1图像数组创建了标签数组o\n",
    "* 译者注：不熟悉numpy的初学者，可以搜索”numpy.resharp 例子\" 或者调用help(np.reshape)来看下它的用法 [python基础之numpy.reshape详解](https://www.jianshu.com/p/fc2fe026f002)"
   ]
  },
  {
   "cell_type": "code",
   "execution_count": 67,
   "metadata": {
    "_cell_guid": "88a9b18b-12c7-46d6-8370-e2f02b55dd7a",
    "_uuid": "ad417f6189b0d9476388d92b6be09c887f7f1a40",
    "scrolled": true
   },
   "outputs": [
    {
     "name": "stdout",
     "output_type": "stream",
     "text": [
      "(410, 64, 64)\n",
      "(410, 1)\n"
     ]
    }
   ],
   "source": [
    "# Join a sequence of arrays along an row axis.\n",
    "# 把一串数组的连接起来，统一编号\n",
    "X = np.concatenate((x_l[204:409], x_l[822:1027] ), axis=0) # 从 0 到 204 是符号”0“ 从205到410是符号”1“\n",
    "z = np.zeros(205)\n",
    "o = np.ones(205)\n",
    "Y = np.concatenate((z, o), axis=0).reshape(X.shape[0],1)\n",
    "# 译者笔记：这里将z和o连接起来,然后变成一个410x1的数组\n",
    "print(X.shape)\n",
    "print(Y.shape)\n",
    "# 去掉注释就可以阅读到np.reshape的帮助\n",
    "# help(np.reshape)"
   ]
  },
  {
   "cell_type": "markdown",
   "metadata": {
    "_cell_guid": "d6024477-cf34-40f9-b079-8388b5146e1b",
    "_uuid": "a999c02e74af603d65a4442842d739aa351f593c"
   },
   "source": [
    "* X的形状是 (410, 64, 64)\n",
    "    * 410表示我们有410张照片 (标志0和标志1的照片)\n",
    "    * 64 表示我们照片的大小是64x64(64x64像素)\n",
    "* Y的形状是(410,1)\n",
    "    *  410 表示我们有410个标签(0和1组成) \n",
    "* 让我们把X,Y拆分成训练组和测试组\n",
    "    * 参数 test_size = 测试大小的百分比. 测试占 15% 和 训练占 85% (译者注：原文这里标注成75%是计算错误。)\n",
    "    * 参数 random_state = 42 我们使用相同的随机种子. 这意味着如果我们反复划分训练和测试组，他总是使用相同的训练和测试分布，因为我们使用相同的random_state参数值"
   ]
  },
  {
   "cell_type": "code",
   "execution_count": 64,
   "metadata": {
    "_cell_guid": "00db1f03-75d3-48dc-a6fb-824a58790d42",
    "_uuid": "82869efdb6890ede1899c1bc8c90fa8b1caceec3"
   },
   "outputs": [
    {
     "name": "stdout",
     "output_type": "stream",
     "text": [
      "348\n",
      "62\n"
     ]
    }
   ],
   "source": [
    "# 让我们创建数组 x_train, y_train, x_test, y_test \n",
    "from sklearn.model_selection import train_test_split\n",
    "X_train, X_test, Y_train, Y_test = train_test_split(X, Y, test_size=0.15, random_state=42)\n",
    "number_of_train = X_train.shape[0]\n",
    "number_of_test = X_test.shape[0]\n",
    "print(number_of_train)\n",
    "print(number_of_test)"
   ]
  },
  {
   "cell_type": "markdown",
   "metadata": {
    "_cell_guid": "4bb55e07-cabb-46ce-b21a-fe4a7b34995f",
    "_uuid": "e294dc952e7ba34569162a8965680ead8edd2834"
   },
   "source": [
    "* 现在我们有3维数组X 做为输入，但是我们要把降维到2维，才能把他变成我们第一个深度学习模型的输入\n",
    "* 译者注：也就是通过numpy.reshape把64*64的二维数组变成4096的一维数组.\n",
    "* 我们的标签数组(Y)已经是2维，所以我们不用动它。\n",
    "* 让我们把X数组变平吧(图像数组).\n"
   ]
  },
  {
   "cell_type": "code",
   "execution_count": 5,
   "metadata": {
    "_cell_guid": "f5937123-1e16-4036-844b-f498ed42e504",
    "_uuid": "f8b7203144bc85873d960f765e2bb3e711b57f30"
   },
   "outputs": [
    {
     "name": "stdout",
     "output_type": "stream",
     "text": [
      "X train flatten (348, 4096)\n",
      "X test flatten (62, 4096)\n"
     ]
    }
   ],
   "source": [
    "X_train_flatten = X_train.reshape(number_of_train,X_train.shape[1]*X_train.shape[2])\n",
    "X_test_flatten = X_test .reshape(number_of_test,X_test.shape[1]*X_test.shape[2])\n",
    "print(\"X train flatten\",X_train_flatten.shape)\n",
    "print(\"X test flatten\",X_test_flatten.shape)"
   ]
  },
  {
   "cell_type": "markdown",
   "metadata": {
    "_cell_guid": "dab40a5b-e319-4807-a608-12065d860847",
    "_uuid": "cb26fc242ffcae8bf8f164d32dc9c5436e8312fc"
   },
   "source": [
    "* 如你所见, 我们的训练数组中有348张图像，每张图像有4096个像素。\n",
    "* 同时, 我们的测试数组有62张图像，每张图像也有4096个像素。\n",
    "* 然后，我们对矩阵做转置，也就是做行和列的交换。\n",
    "* 我知道你会问为什么要做置换，这里没有什么技术上的解释。你看到我后面写得代码就明白了。：）\n",
    "* 译者注：如果你和我一样已经把线性代数基本还给大学老师了，请看一下百度百科，非常简单https://baike.baidu.com/item/%E8%BD%AC%E7%BD%AE%E7%9F%A9%E9%98%B5）"
   ]
  },
  {
   "cell_type": "code",
   "execution_count": 74,
   "metadata": {
    "_cell_guid": "ad9bee66-78f1-44ec-a114-465356b9cc7d",
    "_uuid": "88eef1b839ee51234a53da3ccb1e36a2e5e9a0e6"
   },
   "outputs": [
    {
     "name": "stdout",
     "output_type": "stream",
     "text": [
      "x train:  (4096, 348)\n",
      "x test:  (4096, 62)\n",
      "y train:  (1, 348)\n",
      "y test:  (1, 62)\n"
     ]
    }
   ],
   "source": [
    "x_train = X_train_flatten.T\n",
    "x_test = X_test_flatten.T\n",
    "y_train = Y_train.T\n",
    "y_test = Y_test.T\n",
    "print(\"x train: \",x_train.shape)\n",
    "print(\"x test: \",x_test.shape)\n",
    "print(\"y train: \",y_train.shape)\n",
    "print(\"y test: \",y_test.shape)"
   ]
  },
  {
   "cell_type": "markdown",
   "metadata": {
    "_cell_guid": "0dfdae4c-5c3e-4ebd-8714-2ecf974ef2fa",
    "_uuid": "ed7b18eea8062e401823686bb2f672e1c548fac0"
   },
   "source": [
    "<font color='purple'>\n",
    "到现在我们都做了什么:\n",
    "* 为符号0和符号1创建了标签\n",
    "* 创建了已经降维的训练和测试组\n",
    "* 我们最终的输入(图像)和输出（标签和分类）看起来如图所示\n",
    "<a href=\"http://ibb.co/bWMK7c\"><img src=\"http://image.ibb.co/fOqCSc/3.png\" alt=\"3\" border=\"0\"></a>"
   ]
  },
  {
   "cell_type": "markdown",
   "metadata": {
    "_cell_guid": "8b5f8812-f21c-4936-91b9-d33048dec40b",
    "_uuid": "5f037b5d3f44a9bf139dddb7946c0b33cf7d0298",
    "collapsed": true
   },
   "source": [
    "<a id=\"3\"></a> <br>\n",
    "# 逻辑回归\n",
    "* 当我们说到二元分类时（0和1的输出），我们就会立刻想到逻辑回归。\n",
    "* 译者注：如果你和我一样看到回归两个字就很晕，可以看一下关于逻辑回归的解释。\n",
    "（https://easyai.tech/ai-definition/logistic-regression/）\n",
    "* 然而，在深度学习指南中，逻辑回归是指什么呢？\n",
    "* 答案是逻辑回归是个非常简单的神经网络。\n",
    "* 顺便说一嘴，神经网络和深度学习就是同一件东西。当我们讲到人工神经网络的时候，我会解释“deep”“深度”这个名词的具体含义。\n",
    "* 为了能理解逻辑回归（简易深度学习），让我们先学习下计算图（computation graph）。 "
   ]
  },
  {
   "cell_type": "markdown",
   "metadata": {
    "_cell_guid": "9db2d7f4-0393-47d2-bbf3-88600177b4d1",
    "_uuid": "e2f49564d7d487417546d3b1ce94bc63e6394632"
   },
   "source": [
    "<a id=\"4\"></a> <br>\n",
    "##  计算图\n",
    "* 计算图是一个理解数学表达式的不错的方式。\n",
    "* 它看起来像数序表达式的可视化展示。\n",
    "* 比如说表达式 $$c = \\sqrt{a^2 + b^2}$$\n",
    "* 它的计算图如图所示. 如我们所见的，数学被用图形的方式表达出来\n",
    "<a href=\"http://imgbb.com/\"><img src=\"http://image.ibb.co/hWn6Lx/d.jpg\" alt=\"d\" border=\"0\"></a>"
   ]
  },
  {
   "cell_type": "markdown",
   "metadata": {
    "_cell_guid": "7c968bd6-39d6-4497-add1-6fd1eb331659",
    "_uuid": "5060aff503466a5c54bcf76a545484abda032e03"
   },
   "source": [
    "* 让我们来看看逻辑回归的计算图吧。\n",
    "<a href=\"http://ibb.co/c574qx\"><img src=\"http://preview.ibb.co/cxP63H/5.jpg\" alt=\"5\" border=\"0\"></a>\n",
    "    * 参数包括了 weight(权重)和 bias(偏置） \n",
    "    * Weights权重: 每个像素的系数\n",
    "    * Bias偏置: 截距\n",
    "    * z = (w.t)x + b  => z equals to (transpose of weights times input x) + bias \n",
    "    * z = (w.t)x + b  => z 等于 (系数乘以像素的转置) + 偏置值    \n",
    "    * 换一种方式来说 => z = b + px1*w1 + px2*w2 + ... + px4096*w4096\n",
    "    * y_head = sigmoid(z)\n",
    "    * 通过激活函数Sigmoid可以将z做为参数，获得在0和1之间返回值。你可以在计算图中看到 sigmoid 函数\n",
    "* 为什么我们要使用sigmoid函数?\n",
    "    * 它给出了概率性的结果\n",
    "    * 它是可导的，我们可以在梯度下降算法用到它。(我们很快就会看到它)\n",
    "* 让我们来举个例子吧：\n",
    "    * 比方说我们发现 z=4, 然后我们将 z做为参数传递给 sigmoid 函数。结果y_head的取值大概是0.9。它表示分类的结果有90%的概率是1。\n",
    "* 现在让我们开始吧，挨个仔细练习计算图的每个部分吧。"
   ]
  },
  {
   "cell_type": "markdown",
   "metadata": {
    "_cell_guid": "b9ec7e1d-186b-4911-be80-bc856f43b689",
    "_uuid": "40c4a1af2372960d36b6649f5baf4915e9e16738"
   },
   "source": [
    "<a id=\"5\"></a> <br>\n",
    "## 参数初始化\n",
    "* 从前面的数据准备阶段，你知道我们的输入是4096像素的图片数组。（图片保存在 x_train 中）\n",
    "* 每个数组有自己对应的权重。\n",
    "* 第一步是每个像素乘以自己的权重。\n",
    "* 但是，问题是权重的初始值应该是多少呢？ \n",
    "    * 关于权重初始化的一些技术，我会在人工神经网络中解释。但是，这一次初始化权重是0.01 \n",
    "    * 好的，权重是0.01，那么权重数组的形状是什么样的？如你对计算图所理解的那样，它是(4096,1)\n",
    "    * 译者注：我们的训练集的形状是x train:  (4096, 348)\n",
    "    * 并且初始偏置值是0.\n",
    "* 让我们来写代码吧。为了能在人工智能网络(ANN)等标题中反复使用这些代码，我定义了一个方法(method)."
   ]
  },
  {
   "cell_type": "code",
   "execution_count": 83,
   "metadata": {
    "_cell_guid": "74d461fc-4aa9-4b76-bd26-43551cef138b",
    "_uuid": "f3be95b8ca86fea08336badabf563b5f8f59a142"
   },
   "outputs": [],
   "source": [
    "# 简单的定义方法示例\n",
    "# 译者注：如果你已经学会 python, 不用管他\n",
    "def dummy(parameter):\n",
    "    dummy_parameter = parameter + 5\n",
    "    return dummy_parameter\n",
    "result = dummy(3)     # result = 8\n",
    "\n",
    "# 让我们初始化参数吧\n",
    "# 我们需要一个4096维的数组作为我们这个初始化权重方法的参数，每一维对应着一个像素。\n",
    "# 译者注：initialize_weights_and_bias函数接受dimension做为参数，比如 dimension=4096, \n",
    "# 然后通过 np.full 创建一个4096维的长度为1的数组，并且通通赋值为0.01\n",
    "# 译者注：np.full 返回一个根据指定shape和type,并用fill_value填充的新数组。\n",
    "def initialize_weights_and_bias(dimension):\n",
    "    w = np.full((dimension,1),0.01)\n",
    "    b = 0.0\n",
    "    return w, b\n",
    "#help(np.full)"
   ]
  },
  {
   "cell_type": "code",
   "execution_count": 81,
   "metadata": {
    "_uuid": "d71d5b420ee146833d479781ea889eeebcb74e47"
   },
   "outputs": [
    {
     "name": "stdout",
     "output_type": "stream",
     "text": [
      "(4096, 1)\n",
      "0.0\n"
     ]
    }
   ],
   "source": [
    "w,b = initialize_weights_and_bias(4096)\n",
    "# 译者注：我们来看看参数的形状吧\n",
    "print(w.shape)\n",
    "print(b)"
   ]
  },
  {
   "cell_type": "markdown",
   "metadata": {
    "_cell_guid": "1fbf27d5-1f4b-4b94-a757-99e2becf54a0",
    "_uuid": "dde6fab55966b2de3dc808e03613df9bea7bb0d2"
   },
   "source": [
    "<a id=\"6\"></a> <br>\n",
    "## 前向传播\n",
    "* 每一步通过像素计算代价的过程都可以称为前向传播。\n",
    "    * z = (w.T)x + b => 在这个等式中我们知道x是像素数组，我们知道w(权重)和b(偏置值)，所以我们就只要通过计算就能知道z的值 (T是transpose转置运算)\n",
    "    * 然后，我们将z代入sigmoid函数中，它返回一个y_head值（可能性）。如果你的思路看到这里感到混乱，那么就再去看一眼计算图。sigmoid函数的公式已经在计算图中表示出来。\n",
    "    * 然后我们运算损失loss(error)函数\n",
    "    * 代价函数是所有损失的总和 \n",
    "    * 让我们从z和编写sigmoid方法开始吧。我们把z作为输入参数，返回y_head值（可能性）。 "
   ]
  },
  {
   "cell_type": "code",
   "execution_count": 84,
   "metadata": {
    "_cell_guid": "697be401-792b-46c0-8fe6-79cd65110419",
    "_uuid": "e024479bce9ce2022f65ffd586a6c29b124e7ab5"
   },
   "outputs": [],
   "source": [
    "# 计算z值\n",
    "#z = np.dot(w.T,x_train)+b\n",
    "def sigmoid(z):\n",
    "    y_head = 1/(1+np.exp(-z))\n",
    "    return y_head"
   ]
  },
  {
   "cell_type": "code",
   "execution_count": 85,
   "metadata": {
    "_uuid": "da7e0244449200eaf382507806f01901f1d281c8"
   },
   "outputs": [
    {
     "data": {
      "text/plain": [
       "0.5"
      ]
     },
     "execution_count": 85,
     "metadata": {},
     "output_type": "execute_result"
    }
   ],
   "source": [
    "y_head = sigmoid(0)\n",
    "y_head"
   ]
  },
  {
   "cell_type": "markdown",
   "metadata": {
    "_cell_guid": "571dc02a-b25d-4726-ad2b-9661ae6783e2",
    "_uuid": "d67ca31d01cc8f03fdd862789454e4acf1b2033b"
   },
   "source": [
    "我们写了sigmoid方法，也试着用它计算了y_head值。让我们来学习下损失函数吧\n",
    "* 译者注：参考 \n",
    "[分类问题之损失函数](https://zh.wikipedia.org/wiki/%E5%88%86%E9%A1%9E%E5%95%8F%E9%A1%8C%E4%B9%8B%E6%90%8D%E5%A4%B1%E5%87%BD%E6%95%B8)\n",
    "* 让我们来举个例子吧， 我把一张图片作为输入，然后把它乘以相应的权重然后加上偏置值，然后得到z。然后，我把z代入sigmoid方法中，这样我得到了 y_head值。直到这里为止，我们知道我们在做什么。然后，比方说，y_head变成了0.9, 比0.5大，所以我们预测图像是符号1.OK，每一件事情看来是好的。但是，我们的预测是正确的吗？我们怎么检查这是对是错嘛？答案是通过损失函数：\n",
    "    * 损失函数的数学表达式如下\n",
    "    <a href=\"https://imgbb.com/\"><img src=\"https://image.ibb.co/eC0JCK/duzeltme.jpg\" alt=\"duzeltme\" border=\"0\"></a>\n",
    "    * 它说你如果做了错误的预测，损失或者错误在变大。**DENKLEM DUZELTME**\n",
    "        * 例子： 我们真实的图像是符号1并且它的标签也是1，然后我们的预测值 y_head=1。 当我们放入y和y_head放入损失公式，结果就是0.当我们做出正确预测时，我们的损失是0, 然而，如果我们做出的是错误的预测，比如 y_head=0,损失就是无穷大。\n",
    "* 在这之后，代价函数是损失函数的总和。每个图片都有相应的损失函数。代价函数是这些图片的损失函数的总和。        \n",
    "* 让我们来实现前向传播。\n"
   ]
  },
  {
   "cell_type": "code",
   "execution_count": 11,
   "metadata": {
    "_cell_guid": "adbc7d22-8bba-48c1-b754-75c9d4f0543c",
    "_uuid": "447f1ee51819fdfeba0e1ce0b03449cb549510ed"
   },
   "outputs": [],
   "source": [
    "# 前向传播步骤:\n",
    "# 计算 z = w.T*x+b\n",
    "# y_head = sigmoid(z)\n",
    "# loss(error) = loss(y,y_head)\n",
    "# cost = sum(loss)\n",
    "def forward_propagation(w,b,x_train,y_train):\n",
    "    z = np.dot(w.T,x_train) + b\n",
    "    y_head = sigmoid(z) # probabilistic 0-1\n",
    "    loss = -y_train*np.log(y_head)-(1-y_train)*np.log(1-y_head)\n",
    "    cost = (np.sum(loss))/x_train.shape[1]      # x_train.shape[1]  is for scaling\n",
    "    return cost "
   ]
  },
  {
   "cell_type": "markdown",
   "metadata": {
    "_cell_guid": "b4700f54-c2c5-4a53-ad1f-7fd63f5cd2e9",
    "_uuid": "e577873215128f94fea2eb328de90a4f32b7f803"
   },
   "source": [
    "<a id=\"7\"></a> <br>\n",
    "##  通过梯度下降优化算法\n",
    "* 好的，现在我们知道我们的代价是错误 \n",
    "* 因此，我们需要减少代价，因为我们知道如果成本高，它表示我们做出了错误的预测。 \n",
    "* 让我们来想想第一步，一切都是从初始化权重和偏置值开始。因此代价依赖于他们。\n",
    "* 为了降低代价，我们需要更新权重和偏置值。\n",
    "* 换句话说, 我们的模型需要学习参数权重和偏置值，最小化代价函数。这项技术被称为梯度下降。\n",
    "* 让我们举个例子:\n",
    "    * 我们设置 w=5和 bias=0,所以现在忽略偏置值。然后，我们进行前向传播，我们的代价函数是1.5. \n",
    "    \n",
    "    * 它看起来像这样 (红线)\n",
    "    <a href=\"http://imgbb.com/\"><img src=\"http://image.ibb.co/dAaYJH/7.jpg\" alt=\"7\" border=\"0\"></a>\n",
    "    * 如你所见在这幅图中， 我们当前的结果并不在代价函数的最低点。因此，我们需要达到代价最低点。好吧，让我们来更新权重。（符号:=表示为更新中） \n",
    "    * w := w - step. 问题是这里的距离(step)是什么意思？在当前，距离就是图中斜线slope1。好吧，这样的改变是显著的。为了找到最低点，我们使用斜率slope1.比如我们用 slope1 = 3，然后我们更新权重。w := w - slope1 => w = 2。\n",
    "    * 现在我们的权重 w 是2，如你记得那样， 我们需要继续前向传播寻找最低代价值(cost)\n",
    "    * 比如说根据前向传播，我们算出 w=2是，代价函数取值是0.4。我们这么做看起来是对的，因为代价函数取值变小了。我们得到了新的权重值，代价函数取值是0.4。这样够了吗？事实上我并不知道，所以我们再试一步。\n",
    "    * Slope2 = 0.7 and w = 2. 让我们来更新权重 w : = w - step(slope2) => w = 1.3 权重现在是1.3. 让我们找出新的代价函数取值。\n",
    "    * 再做了一次前向传播后， w=1.3 然后我们的代价 cost =0.3. 好吧，我们的代价变得更低， 它看起来不错。 但是它是不是足够好了呢或者我们是不是还要再执行一步呢？答案还是我不知道，让我们再试试。\n",
    "    * Slope3 = 0.01 并且 w = 1.3. 更新权重 w := w - step(slope3) => w = 1.29 ~ 1.3. 这次权重并没有变化，因为我们找到了代价函数的最低点。 \n",
    "    * 这一切看起来都不错，但是我们是怎么确定斜率的呢? 如果你还记得高中或者大学的课程，为了找到函数在某一指定点的斜率（代价函数的斜率），我们对这一点求导数. 也许你还会问，好吧我知道怎么求斜率了，但是怎么知道该往那边走呢？你会说也许顺着斜率，代价值也可能变大而不是走向最低点。我们的答案是斜率（导数）同时给出了距离和方向。因此不用担心。\n",
    "    * 更新后的等式是这样的。他表示通过权重和偏置值计算得到的代价函数。根据权重和偏置值对代价函数求导，然后乘以α学习率，然后就可以更新权重值。（为了解释，我忽略了偏置值，但是所有的步骤都应该包含偏置值）\n",
    "    <a href=\"http://imgbb.com/\"><img src=\"http://image.ibb.co/hYTTJH/8.jpg\" alt=\"8\" border=\"0\"></a>\n",
    "    * 现在，我确定你会问什么是学习率，我前面从没有提到过。它是非常直白的术语，它决定了学习率。然后，这里有个学习很快或者不学习的权衡。比如说你在巴黎（当前的代价），然后你想去马德里（最小代价）。如果你的速度（学习率）很慢，你会花很长时间才能到达马德里。但是，另一方面，如果你的速度（学习率）非常大，你可以跑得飞快但是有可能坠毁而永远到不了马德里。因此，我们要明智地选择速度（学习率）\n",
    "    * 学习率也称为超参，需要被选择和调校。我会在人工神经网络中一起更详细介绍它和其他超参。现在，我们假设在前面的例子中学习率为1\n",
    "    \n",
    "* 我想现在你已经理解了前向传播的逻辑了（从权重和偏置值到代价）和后向传播（从代价来更新权重和偏置值）。而且你也学习了梯度下降。在实现代码前，你还要学习另外一件事情：我们怎么根据权重和偏置值对代价函数求导。这和Python或者编程无关。这是纯数学。有两个观点，第一个是用 Google搜索关于怎么对log loss函数求导， 第二个是google搜索什么是log loss函数的导数。我选择第二种因为我不说话就无法解释数学 ：）\n",
    "\n",
    "$$ \\frac{\\partial J}{\\partial w} = \\frac{1}{m}x(  y_head - y)^T$$\n",
    "$$ \\frac{\\partial J}{\\partial b} = \\frac{1}{m} \\sum_{i=1}^m (y_head-y)$$"
   ]
  },
  {
   "cell_type": "code",
   "execution_count": 12,
   "metadata": {
    "_cell_guid": "2b74bb7c-bcbe-4865-ac61-25ced274e7de",
    "_uuid": "088f192f99d2a31f041116c893ec713ef3b4fe43"
   },
   "outputs": [],
   "source": [
    "# 在后序传播中，我们会使用前向传播得到的 y_head \n",
    "# 因此，我们把前向传播和后向传播绑在一起，而不是再写个后向传播的函数。\n",
    "def forward_backward_propagation(w,b,x_train,y_train):\n",
    "    # 前向传播\n",
    "    z = np.dot(w.T,x_train) + b\n",
    "    y_head = sigmoid(z)\n",
    "    loss = -y_train*np.log(y_head)-(1-y_train)*np.log(1-y_head)\n",
    "    cost = (np.sum(loss))/x_train.shape[1]      # x_train.shape[1]  is for scaling\n",
    "    # 后向传播\n",
    "    derivative_weight = (np.dot(x_train,((y_head-y_train).T)))/x_train.shape[1] # x_train.shape[1]  is for scaling\n",
    "    derivative_bias = np.sum(y_head-y_train)/x_train.shape[1]                 # x_train.shape[1]  is for scaling\n",
    "    gradients = {\"derivative_weight\": derivative_weight,\"derivative_bias\": derivative_bias}\n",
    "    return cost,gradients"
   ]
  },
  {
   "cell_type": "markdown",
   "metadata": {
    "_cell_guid": "d82dbae8-d11e-4ea8-bbfe-545fee3166b3",
    "_uuid": "9e4d028259897e1565341736d58e46f70ea6b312"
   },
   "source": [
    "* 到这里，我们学习了：\n",
    "    * 初始化参数 (已经实现)\n",
    "    * 通过前向传播和代价函数寻找代价 (已经实现)\n",
    "    * 更新（学习）参数（权重和偏置值）。让我们来实现它。\n"
   ]
  },
  {
   "cell_type": "code",
   "execution_count": 86,
   "metadata": {
    "_cell_guid": "0940e18d-636d-4503-a2c6-1994024726fe",
    "_uuid": "31299bda686ae2ab157ea18df70e4741e5225345"
   },
   "outputs": [],
   "source": [
    "# 更新学习参数\n",
    "def update(w, b, x_train, y_train, learning_rate,number_of_iterarion):\n",
    "    cost_list = []\n",
    "    cost_list2 = []\n",
    "    index = []\n",
    "    # 更新学习参数需要number_of_iterarion次迭代\n",
    "    for i in range(number_of_iterarion):\n",
    "        # 做前向和后向传播来寻找代价和梯度\n",
    "        cost,gradients = forward_backward_propagation(w,b,x_train,y_train)\n",
    "        cost_list.append(cost)\n",
    "        # 让我们来做更新\n",
    "        w = w - learning_rate * gradients[\"derivative_weight\"]\n",
    "        b = b - learning_rate * gradients[\"derivative_bias\"]\n",
    "        if i % 10 == 0:\n",
    "            cost_list2.append(cost)\n",
    "            index.append(i)\n",
    "            print (\"Cost after iteration %i: %f\" %(i, cost))\n",
    "    # 我们更新了学习参数权重 weights 和偏置值 bias\n",
    "    parameters = {\"weight\": w,\"bias\": b}\n",
    "    plt.plot(index,cost_list2)\n",
    "    plt.xticks(index,rotation='vertical')\n",
    "    plt.xlabel(\"Number of Iterarion\")\n",
    "    plt.ylabel(\"Cost\")\n",
    "    plt.show()\n",
    "    return parameters, gradients, cost_list\n",
    "#parameters, gradients, cost_list = update(w, b, x_train, y_train, learning_rate = 0.009,number_of_iterarion = 200)"
   ]
  },
  {
   "cell_type": "markdown",
   "metadata": {
    "_cell_guid": "202a05c6-2187-40eb-9733-e4da792f04b6",
    "_uuid": "1892ccefd7debe1e9f59b500873b7afded3a4a01"
   },
   "source": [
    "* 哇, 我觉得累了 :) 到这里为止，我们已经学习了参数. 这表示我们适应了数据\n",
    "* 为了预测，我们已经搞好了参数。那么，我们开始预测吧。\n",
    "* 在预测步骤中，我们用测试集x_test做为输入。我们对它做前向预测。"
   ]
  },
  {
   "cell_type": "code",
   "execution_count": 87,
   "metadata": {
    "_cell_guid": "1fd35d0f-e989-49fa-9bcb-1769d92a5ab4",
    "_uuid": "c9b80f081f49a722818cfebfc01e8b8dc69db9c1"
   },
   "outputs": [],
   "source": [
    " # 预测\n",
    "def predict(w,b,x_test):\n",
    "    # x_test 是前向传播的输入\n",
    "    z = sigmoid(np.dot(w.T,x_test)+b)\n",
    "    Y_prediction = np.zeros((1,x_test.shape[1]))\n",
    "    # 如果 z 大于 0.5, 我们的预测结果是符号1 (y_head=1),\n",
    "    # 如果 z 小于 0.5,, 我们的预测结果是符号0 (y_head=0),\n",
    "    for i in range(z.shape[1]):\n",
    "        if z[0,i]<= 0.5:\n",
    "            Y_prediction[0,i] = 0\n",
    "        else:\n",
    "            Y_prediction[0,i] = 1\n",
    "\n",
    "    return Y_prediction\n",
    "# predict(parameters[\"weight\"],parameters[\"bias\"],x_test)"
   ]
  },
  {
   "cell_type": "markdown",
   "metadata": {
    "_cell_guid": "ce815319-161b-408b-84fe-4bb1fab92d13",
    "_uuid": "40dbb73794b6b742b01e33038284aa9f11cc698c"
   },
   "source": [
    "* 我们做了预测。\n",
    "* 现在让我们把所有工作串起来吧。"
   ]
  },
  {
   "cell_type": "code",
   "execution_count": 90,
   "metadata": {
    "_cell_guid": "029e2cd3-125b-4ca4-8b94-25d8164ba1a7",
    "_uuid": "81fb6989ff3860d72462f8212b1d00325272a471"
   },
   "outputs": [
    {
     "name": "stdout",
     "output_type": "stream",
     "text": [
      "Cost after iteration 0: 14.014222\n",
      "Cost after iteration 10: 2.544689\n",
      "Cost after iteration 20: 2.577950\n",
      "Cost after iteration 30: 2.397999\n",
      "Cost after iteration 40: 2.185019\n",
      "Cost after iteration 50: 1.968348\n",
      "Cost after iteration 60: 1.754195\n",
      "Cost after iteration 70: 1.535079\n",
      "Cost after iteration 80: 1.297567\n",
      "Cost after iteration 90: 1.031919\n",
      "Cost after iteration 100: 0.737019\n",
      "Cost after iteration 110: 0.441355\n",
      "Cost after iteration 120: 0.252278\n",
      "Cost after iteration 130: 0.205168\n",
      "Cost after iteration 140: 0.196168\n"
     ]
    },
    {
     "data": {
      "image/png": "[encoded data removed]",
      "text/plain": [
       "<matplotlib.figure.Figure at 0x3ff9b9db9b0>"
      ]
     },
     "metadata": {},
     "output_type": "display_data"
    },
    {
     "name": "stdout",
     "output_type": "stream",
     "text": [
      "train accuracy: 92.816091954023 %\n",
      "test accuracy: 93.54838709677419 %\n"
     ]
    }
   ],
   "source": [
    "def logistic_regression(x_train, y_train, x_test, y_test, learning_rate ,  num_iterations):\n",
    "    # 初始化\n",
    "    dimension =  x_train.shape[0]  # that is 4096\n",
    "    w,b = initialize_weights_and_bias(dimension)\n",
    "    # 不要去改变学习率\n",
    "    parameters, gradients, cost_list = update(w, b, x_train, y_train, learning_rate,num_iterations)\n",
    "    \n",
    "    y_prediction_test = predict(parameters[\"weight\"],parameters[\"bias\"],x_test)\n",
    "    y_prediction_train = predict(parameters[\"weight\"],parameters[\"bias\"],x_train)\n",
    "\n",
    "    # 打印训练测试错误\n",
    "    print(\"train accuracy: {} %\".format(100 - np.mean(np.abs(y_prediction_train - y_train)) * 100))\n",
    "    print(\"test accuracy: {} %\".format(100 - np.mean(np.abs(y_prediction_test - y_test)) * 100))\n",
    "    \n",
    "logistic_regression(x_train, y_train, x_test, y_test,learning_rate = 0.01, num_iterations = 150)"
   ]
  },
  {
   "cell_type": "markdown",
   "metadata": {
    "_cell_guid": "6603c5a2-0a1b-4e4a-addd-a89be453e6fd",
    "_uuid": "1da3b972bab3207d2ba77f3d21516296f3e9be02"
   },
   "source": [
    "* 我们学习了简易神经网络（逻辑回归）背后的逻辑和怎么实现它。\n",
    "* 现在我们已经学习了逻辑，我们接下来可以用sklearn库了，用它来实现这些逻辑回归的步骤更加容易。\n",
    "\n",
    "\n"
   ]
  },
  {
   "cell_type": "markdown",
   "metadata": {
    "_cell_guid": "119db4ab-f04c-41c0-aef9-728565786e94",
    "_uuid": "ba8b9c960d1735b146fbbad378c90902e7218d59"
   },
   "source": [
    "<a id=\"8\"></a> <br>\n",
    "## 通过 Skylearn 做逻辑回归\n",
    "* 在sklearn库中, 有个逻辑回归方法可以很容易地实现逻辑回归。 \n",
    "* 我不打算解释sklearn逻辑回归用到的每个参数，但是如果你想要的话，可以读这篇文章 http://scikit-learn.org/stable/modules/generated/sklearn.linear_model.LogisticRegression.html\n",
    "* 但是，精确度和我们前面计算得到的是不一样的。因为逻辑回归函数还使用了其他很多我们没有在前面用到的特性，比如不同的优化参数和调整。\n",
    "* 让我们对逻辑回归下个结论，然后开始人工智能网络部分吧。"
   ]
  },
  {
   "cell_type": "code",
   "execution_count": 89,
   "metadata": {
    "_cell_guid": "5bc37200-cd53-4da3-a2ef-c630cf1a2d10",
    "_uuid": "a13b1565f8a5ae234eaa9ed6da288103a3579938"
   },
   "outputs": [
    {
     "name": "stdout",
     "output_type": "stream",
     "text": [
      "test accuracy: 0.967741935483871 \n",
      "train accuracy: 1.0 \n"
     ]
    }
   ],
   "source": [
    "from sklearn import linear_model\n",
    "logreg = linear_model.LogisticRegression(random_state = 42,max_iter= 150)\n",
    "print(\"test accuracy: {} \".format(logreg.fit(x_train.T, y_train.T).score(x_test.T, y_test.T)))\n",
    "print(\"train accuracy: {} \".format(logreg.fit(x_train.T, y_train.T).score(x_train.T, y_train.T)))"
   ]
  },
  {
   "cell_type": "markdown",
   "metadata": {
    "_cell_guid": "b889d43b-15c9-4f31-a4ff-c51c9b5ac077",
    "_uuid": "3379f61c2fb28d4f6e0e7b55fa31da22bab037a9"
   },
   "source": [
    "<a id=\"9\"></a> <br>\n",
    "## 总结和问题\n",
    "<font color='purple'>\n",
    "在第一部分我们都做了什么:\n",
    "* 初始化参数权重和偏置值\n",
    "* 前向传播\n",
    "* 损失函数\n",
    "* 代价函数\n",
    "* 后向传播 (梯度下降)\n",
    "* 用学习到的参数权重和偏置值做预测\n",
    "* 通过 Skylearn 进行逻辑回归\n",
    "\n",
    "<br> 如果你在这里有问你可以问作者，因为接下来我们会构建逻辑回归的人工智能网络。\n",
    "<br> 家庭作业: 这是一个不错的点，停下来做个联系吧. 你的作业是创建自己的逻辑回归方法来分类另外两个数字符号。"
   ]
  },
  {
   "cell_type": "markdown",
   "metadata": {
    "_cell_guid": "a800aa00-7adf-4d10-83c1-3a5221219329",
    "_uuid": "dd0e970ce5194a34ca55b27b6580ef85714e1b92"
   },
   "source": [
    "<a id=\"10\"></a> <br>\n",
    "# 人工神经网络 (ANN)\n",
    "* 它也被称为深度神经网络或者深度学习\n",
    "* **什么是神经网络:** 它是基本上是逻辑回归，并且执行两遍以上。\n",
    "* 在逻辑回归中, 有输入层和输出层。然后，在神经网络中，在输入层和输出层之间至少还有一层隐藏的层\n",
    "* **什么是深度, 多少层可以称为深度 ** 当我问我的老师这个问题的时候，他说“深度”（Deep)是个具有相对性的名词；它当然是指出了网络的深度，表明了有多少隐藏层。 “你的游泳池有多深？” 它可以是12英寸深（3.6米左右）也可以是2英寸（0.6米)。无论如何，它都有个深度。泳池的质量可以用深度来表示。32年前，我使用了两到三个隐藏层。那是因为那时我收到了专用硬件的限制。在几年前，20层被视为挺深了。在10月，吴恩达提到了152层是他目前知道的最大的商业网络。上周，我和在某著名大公司供职的人聊天，他说他用了几千层。所以，我倾向于坚持问“多深？”\n",
    "* **为什么它称为“隐藏”:** 因为隐藏层看不到输入(训练集)。\n",
    "* 比方说你有输入，1层隐藏层和输出层。当有人问你“嘿，我的朋友，你的神经网络有几层？”答案是“我有两层神经网络”。因为当计算层数时, 输入层被无视了。\n",
    "* 让我们来看2层神经网络: \n",
    "<a href=\"http://ibb.co/eF315x\"><img src=\"http://preview.ibb.co/dajVyH/9.jpg\" alt=\"9\" border=\"0\"></a>\n",
    "* 我们会一步步学习这张图.\n",
    "    * 如你所见在输入和输出层之间有一层隐藏层。而这个隐藏层有3个节点。如果你好奇为啥我选择了3个节点，答案是没有理由，我就是这么选的。节点数量是和学习率一样是超参。因此我们会在神经网络部分结束的时候看到这些超参。\n",
    "    * 输入和输出层没有变。他们和逻辑回归是一样的。\n",
    "    * 在图中有一个tanh函数，你可能并不了解. 它和sigmoid函数一样是激活函数. Tanh激活函数用于隐藏单元时比sigmoid函数好，因为它的输出的平均值接近于0，所以它为下一层做了数据集中。而且，tanh激活函数增加了非线性，这让我们的学习模型更好。\n",
    "    * 如你所见紫色的有两部分。每个部分都和逻辑回归那样。它们的区别是激活函数，输入和输出。\n",
    "        * 在逻辑回归中: 输入 => 输出\n",
    "        * 在两层神经网络中: 输入 => 隐藏层 => 输出层. 你可以认为隐藏层是第一部分的输出和第二部分的输入。\n",
    "* 说完了. 我们将会沿着逻辑回归相同的路径来学习两层神经网络。\n",
    "\n",
    "   \n",
    "    \n",
    "    "
   ]
  },
  {
   "cell_type": "markdown",
   "metadata": {
    "_cell_guid": "35b73665-27cb-48a7-abb1-0e0e6bc10ec0",
    "_uuid": "689a4a049579fff0c718bc30639f18e2dcab8ccc"
   },
   "source": [
    "<a id=\"11\"></a> <br>\n",
    "## 2层神经网络\n",
    "* 层的大小，权重以及偏置值参数初始化\n",
    "* 前向传播\n",
    "* 损失函数和代价函数\n",
    "* 后向传播\n",
    "* 更新参数\n",
    "* 用学到的权重的偏置值做预测\n",
    "* 创建模型"
   ]
  },
  {
   "cell_type": "markdown",
   "metadata": {
    "_cell_guid": "bbfe8df0-bf38-4842-aec1-c04417a99420",
    "_uuid": "0a5e286cf360d579eb6e5d5f220dd1a17c458039"
   },
   "source": [
    "<a id=\"12\"></a> <br>\n",
    "## 层的大小，权重以及偏置值参数初始化\n",
    "* 训练集x_train有348个样本 $x^{(348)}$:\n",
    "$$z^{[1] (348)} =  W^{[1]} x^{(348)} + b^{[1] (348)}$$ \n",
    "$$a^{[1] (348)} = \\tanh(z^{[1] (348)})$$\n",
    "$$z^{[2] (348)} = W^{[2]} a^{[1] (348)} + b^{[2] (348)}$$\n",
    "$$\\hat{y}^{(348)} = a^{[2] (348)} = \\sigma(z^{ [2] (348)})$$\n",
    "\n",
    "* 在逻辑回归中, 我们初始化权重 0.01 和偏置值 0. 这次, 我们随机初始化权重。如果我们把第一隐藏层每个神经元都初始化为0将会进行同样的计算，即使多次梯度下降的迭代后，每个这一层的神经元仍然还是和其他神经元一样计算相同的事情。所以，我们做随机的初始化。而且，起始的权重会比较小。如果它们的初始值非常大，这会导致tanh函数的输入非常大，然而这会导致梯度接近于0.优化算法会非常慢。\n",
    "* 偏置值开始时会是0"
   ]
  },
  {
   "cell_type": "code",
   "execution_count": 94,
   "metadata": {
    "_cell_guid": "089fd577-95a0-4218-9b53-72bf1c0ab206",
    "_uuid": "922670a74f6999885759399ebea8b10692796a29"
   },
   "outputs": [],
   "source": [
    "# 初始化参数和层大小\n",
    "def initialize_parameters_and_layer_sizes_NN(x_train, y_train):\n",
    "    parameters = {\"weight1\": np.random.randn(3,x_train.shape[0]) * 0.1,\n",
    "                  \"bias1\": np.zeros((3,1)),\n",
    "                  \"weight2\": np.random.randn(y_train.shape[0],3) * 0.1,\n",
    "                  \"bias2\": np.zeros((y_train.shape[0],1))}\n",
    "    return parameters"
   ]
  },
  {
   "cell_type": "markdown",
   "metadata": {
    "_cell_guid": "65832cdf-7ee8-447b-a068-48ac2e46b49f",
    "_uuid": "66147bbafbe25dac498f3963ea8419126f624ce9"
   },
   "source": [
    "<a id=\"13\"></a> <br>\n",
    "## 前向传播\n",
    "* 前向传播和逻辑回归几乎一样。\n",
    "* 唯一的区别是我们使用tanh函数和我们所有都做两次.\n",
    "* numpy也有tanh函数. 所以我们不需要自己实现它。"
   ]
  },
  {
   "cell_type": "code",
   "execution_count": 18,
   "metadata": {
    "_cell_guid": "d64d6b90-7f14-453f-a401-4119504496e3",
    "_uuid": "41e1e2f1c7afff027ba0a9f9b2fdcbe312e9a194"
   },
   "outputs": [],
   "source": [
    "\n",
    "def forward_propagation_NN(x_train, parameters):\n",
    "\n",
    "    Z1 = np.dot(parameters[\"weight1\"],x_train) +parameters[\"bias1\"]\n",
    "    A1 = np.tanh(Z1)\n",
    "    Z2 = np.dot(parameters[\"weight2\"],A1) + parameters[\"bias2\"]\n",
    "    A2 = sigmoid(Z2)\n",
    "\n",
    "    cache = {\"Z1\": Z1,\n",
    "             \"A1\": A1,\n",
    "             \"Z2\": Z2,\n",
    "             \"A2\": A2}\n",
    "    \n",
    "    return A2, cache\n"
   ]
  },
  {
   "cell_type": "markdown",
   "metadata": {
    "_cell_guid": "30a0abc9-7ee0-4093-afd5-ae9d5b1fcd5e",
    "_uuid": "ee7a42ee207e222eed5c24b1bfbf2d6ce0cdec37"
   },
   "source": [
    "<a id=\"14\"></a> <br>\n",
    "## 损失函数和代价函数\n",
    "* 损失函数和代价函数同逻辑回归是一样的\n",
    "* Cross entropy function\n",
    "<a href=\"https://imgbb.com/\"><img src=\"https://image.ibb.co/nyR9LU/as.jpg\" alt=\"as\" border=\"0\"></a><br />"
   ]
  },
  {
   "cell_type": "code",
   "execution_count": 95,
   "metadata": {
    "_cell_guid": "24143d72-bc62-4f2d-b0cf-4f67a4016299",
    "_uuid": "b55887b28cffc8083a76af45d25957d4f3e9f6fa"
   },
   "outputs": [],
   "source": [
    "# 计算代价\n",
    "def compute_cost_NN(A2, Y, parameters):\n",
    "    logprobs = np.multiply(np.log(A2),Y)\n",
    "    cost = -np.sum(logprobs)/Y.shape[1]\n",
    "    return cost\n"
   ]
  },
  {
   "cell_type": "markdown",
   "metadata": {
    "_cell_guid": "39839772-976a-4e53-a2e0-07aa76c9bd98",
    "_uuid": "43767f9271e2b2b6e0c3560e414f3c0c596ffe2f"
   },
   "source": [
    "<a id=\"15\"></a> <br>\n",
    "## 后向传播\n",
    "* 如你所知，后向传播需要求导。\n",
    "* 如果你想进一步了解，（我需要用说来讲解），请看 youtube 视频\n",
    "* 但是逻辑是一样的, 让我们来写代码吧。"
   ]
  },
  {
   "cell_type": "code",
   "execution_count": 96,
   "metadata": {
    "_cell_guid": "2fcfd3c4-f935-4272-a284-c2dbc2c35afb",
    "_uuid": "6bf7bce2e4413ecdc16ea778008eee4072738aab"
   },
   "outputs": [],
   "source": [
    "# 后向传播\n",
    "def backward_propagation_NN(parameters, cache, X, Y):\n",
    "\n",
    "    dZ2 = cache[\"A2\"]-Y\n",
    "    dW2 = np.dot(dZ2,cache[\"A1\"].T)/X.shape[1]\n",
    "    db2 = np.sum(dZ2,axis =1,keepdims=True)/X.shape[1]\n",
    "    dZ1 = np.dot(parameters[\"weight2\"].T,dZ2)*(1 - np.power(cache[\"A1\"], 2))\n",
    "    dW1 = np.dot(dZ1,X.T)/X.shape[1]\n",
    "    db1 = np.sum(dZ1,axis =1,keepdims=True)/X.shape[1]\n",
    "    grads = {\"dweight1\": dW1,\n",
    "             \"dbias1\": db1,\n",
    "             \"dweight2\": dW2,\n",
    "             \"dbias2\": db2}\n",
    "    return grads"
   ]
  },
  {
   "cell_type": "markdown",
   "metadata": {
    "_cell_guid": "af195fda-5649-4e6d-830e-72123f2726a8",
    "_uuid": "b1996782dc44fda7993407c9b5efee5d4fef46e4"
   },
   "source": [
    "<a id=\"16\"></a> <br>\n",
    "## 更新参数\n",
    "* 更新参数和逻辑回归是一样的\n",
    "* 我们其实和逻辑回归一样干了大量的工作。"
   ]
  },
  {
   "cell_type": "code",
   "execution_count": 97,
   "metadata": {
    "_cell_guid": "d9ae95d4-1d11-4293-822d-e1d5f0c16d1e",
    "_uuid": "facf2b475cb82e14dcc6be56b57fe2c3ad0b1a8f"
   },
   "outputs": [],
   "source": [
    "# 更新参数\n",
    "def update_parameters_NN(parameters, grads, learning_rate = 0.01):\n",
    "    parameters = {\"weight1\": parameters[\"weight1\"]-learning_rate*grads[\"dweight1\"],\n",
    "                  \"bias1\": parameters[\"bias1\"]-learning_rate*grads[\"dbias1\"],\n",
    "                  \"weight2\": parameters[\"weight2\"]-learning_rate*grads[\"dweight2\"],\n",
    "                  \"bias2\": parameters[\"bias2\"]-learning_rate*grads[\"dbias2\"]}\n",
    "    \n",
    "    return parameters"
   ]
  },
  {
   "cell_type": "markdown",
   "metadata": {
    "_cell_guid": "ac416480-ec9c-45b4-ac9d-1caeded9ba90",
    "_uuid": "9c471502563017fabb991494359091215e4ad583"
   },
   "source": [
    "<a id=\"17\"></a> <br>\n",
    "## 用学到的权重和偏置值做预测\n",
    "* 让我们写预测方法吧，它和逻辑回归的那个差不多"
   ]
  },
  {
   "cell_type": "code",
   "execution_count": 98,
   "metadata": {
    "_cell_guid": "96004eb5-d6ca-41ab-a577-70fb0628a2f4",
    "_uuid": "53c00c4430c6fcc3298dde8de804cab71884caa5"
   },
   "outputs": [],
   "source": [
    "# 预测\n",
    "def predict_NN(parameters,x_test):\n",
    "    # x_test 是前向传播的输入\n",
    "    A2, cache = forward_propagation_NN(x_test,parameters)\n",
    "    Y_prediction = np.zeros((1,x_test.shape[1]))\n",
    "    # 如果z>0.5, 我们预测的结果是符号1\n",
    "    # 如果z<0.5, 我们预测的结果是符号0,\n",
    "    for i in range(A2.shape[1]):\n",
    "        if A2[0,i]<= 0.5:\n",
    "            Y_prediction[0,i] = 0\n",
    "        else:\n",
    "            Y_prediction[0,i] = 1\n",
    "\n",
    "    return Y_prediction"
   ]
  },
  {
   "cell_type": "markdown",
   "metadata": {
    "_cell_guid": "d0df9e13-300b-4d5e-b8ec-f702ed0e06af",
    "_uuid": "94202fbc047d59fa5c8b81ba02962f1f3cc56d8f"
   },
   "source": [
    "<a id=\"18\"></a> <br>\n",
    "## 创建模型\n",
    "* 让我们把所有东西放到一起"
   ]
  },
  {
   "cell_type": "code",
   "execution_count": null,
   "metadata": {
    "_cell_guid": "b66f3c28-0f71-4176-8a6b-35b98b0db936",
    "_uuid": "9babf239f800bedc9864c6a75677985d57f1cc78"
   },
   "outputs": [],
   "source": [
    "# 两层神经网络\n",
    "def two_layer_neural_network(x_train, y_train,x_test,y_test, num_iterations):\n",
    "    cost_list = []\n",
    "    index_list = []\n",
    "    #初始化参数和层大小\n",
    "    parameters = initialize_parameters_and_layer_sizes_NN(x_train, y_train)\n",
    "\n",
    "    for i in range(0, num_iterations):\n",
    "         # 前向传播\n",
    "        A2, cache = forward_propagation_NN(x_train,parameters)\n",
    "        # 计算开销\n",
    "        cost = compute_cost_NN(A2, y_train, parameters)\n",
    "         # 后向传播\n",
    "        grads = backward_propagation_NN(parameters, cache, x_train, y_train)\n",
    "         # 更新参数\n",
    "        parameters = update_parameters_NN(parameters, grads)\n",
    "        \n",
    "        if i % 100 == 0:\n",
    "            cost_list.append(cost)\n",
    "            index_list.append(i)\n",
    "            print (\"Cost after iteration %i: %f\" %(i, cost))\n",
    "    plt.plot(index_list,cost_list)\n",
    "    plt.xticks(index_list,rotation='vertical')\n",
    "    plt.xlabel(\"Number of Iterarion\")\n",
    "    plt.ylabel(\"Cost\")\n",
    "    plt.show()\n",
    "    \n",
    "    # 预测\n",
    "    y_prediction_test = predict_NN(parameters,x_test)\n",
    "    y_prediction_train = predict_NN(parameters,x_train)\n",
    "\n",
    "    # 打印训练和测试的结果\n",
    "    print(\"train accuracy: {} %\".format(100 - np.mean(np.abs(y_prediction_train - y_train)) * 100))\n",
    "    print(\"test accuracy: {} %\".format(100 - np.mean(np.abs(y_prediction_test - y_test)) * 100))\n",
    "    return parameters\n",
    "\n",
    "parameters = two_layer_neural_network(x_train, y_train,x_test,y_test, num_iterations=2500)"
   ]
  },
  {
   "cell_type": "markdown",
   "metadata": {
    "_cell_guid": "04d3b704-2fd4-410b-ad90-a5a0aedd4b7d",
    "_uuid": "62bb69efcf883ba22581dfc8d4f2e0eaa2d99ee3"
   },
   "source": [
    "<font color='purple'>\n",
    "\n",
    "到这里为止，我们创建了两层神经网络，学习了如何实现。\n",
    "* 层的大小，权重以及偏置值参数初始化\n",
    "* 前向传播\n",
    "* 损失函数和代价函数\n",
    "* 后向传播\n",
    "* 更新参数\n",
    "* 用学到的权重的偏置值做预测\n",
    "* 创建模型\n",
    "\n",
    "<br> Now lets learn how to implement L layer neural network with keras."
   ]
  },
  {
   "cell_type": "markdown",
   "metadata": {
    "_cell_guid": "c054ed2a-9dd9-498c-9be6-6e9b16ff5913",
    "_uuid": "aa2f896b72236e09687afc3c613a4fc801b16552"
   },
   "source": [
    "<a id=\"19\"></a> <br>\n",
    "# L层神经网络\n",
    "* **如果隐藏层数增加，会发生什么:** 早期的层会检测简单的特性。\n",
    "* 如果后面的神经网络中，模型由简单的特性组成，模型可以学习更多更复杂的功能。比方说，让我们来看看符号1.\n",
    "<a href=\"http://ibb.co/dNgDJH\"><img src=\"http://preview.ibb.co/mpD4Qx/10.jpg\" alt=\"10\" border=\"0\"></a>\n",
    "* 如果第一层学习了边缘或者基本图像比如说线条。当层数增加时，层开始学习更复杂的事情，比如凸多边形形状或者典型特征比如食指。\n",
    "* 让我们来创建个模型\n",
    "    * 有一些超参比如我们需要的学习率，迭代数，隐藏层数，隐藏单元数，激活函数的类型。哇，太多了，：）\n",
    "    * 如果你花了大量时间在深度学习的世界，这些超参可以靠自觉挑选 \n",
    "    * 但是, 如果你不想花太多时间，最后的办法还是 google 搜索，但是这也不是必须的。你需要尝试不同超参，找到最好的。\n",
    "    * 在本指南中，我们的模型有2个隐藏层分别带了8个和4个节点。 因为隐藏层和节点数增加了，它会花大量的时间。\n",
    "    * 对于激活函数，我们会分别用 relu(第一隐藏层)， relu(第二隐藏层)和 sigmoid(输出层)\n",
    "    * 迭代将会是100次\n",
    "* 我们的方法和前面一样，虽然你已经学过深度学习的逻辑，我们的工作还是可以通过keras库来简化。我们会为深度神经网络使用keras库。\n",
    "\n",
    "* 首先让我们来转置训练集和测试集 x_train, x_test, y_train and y_test.\n",
    "\n",
    "    \n",
    "    "
   ]
  },
  {
   "cell_type": "code",
   "execution_count": 100,
   "metadata": {
    "_cell_guid": "631a05c4-e362-4fa0-9048-21c599f55344",
    "_uuid": "0a978924a68d423de4babe73c15412ad938c1858"
   },
   "outputs": [],
   "source": [
    "# 转置\n",
    "x_train, x_test, y_train, y_test = x_train.T, x_test.T, y_train.T, y_test.T"
   ]
  },
  {
   "cell_type": "markdown",
   "metadata": {
    "_cell_guid": "e17b5a34-00dc-49a8-b7ac-a2bd3a753f78",
    "_uuid": "5a78a5570bc50180a02190dee46180f19eb165e1"
   },
   "source": [
    "<a id=\"22\"></a> <br>\n",
    "## 用keras库实现\n",
    "让我们看看keras库的一些参数：\n",
    "* units: 节点的输出维度\n",
    "* kernel_initializer: 初始化权重\n",
    "* activation: 激活函数, 我们用relu\n",
    "* input_dim: 输入维度，这里它就是我们图象中的像素数量（4096像素）\n",
    "* 优化器: 我们使用adam优化器\n",
    "    * Adam是训练神经网络时最有效的的优化算法之一。\n",
    "    * Adam的一些优点是相对小的内存需求，和常常只要少量调校超参就能工作得很好。\n",
    "* 损失: 代价函数是相同的. 同时成本函数是我们前面用过的cross-entropy\n",
    "$$J = - \\frac{1}{m} \\sum\\limits_{i = 0}^{m} \\large\\left(\\small y^{(i)}\\log\\left(a^{[2] (i)}\\right) + (1-y^{(i)})\\log\\left(1- a^{[2] (i)}\\right)  \\large  \\right) \\small \\tag{6}$$\n",
    "* metrics: 这是精确的\n",
    "* cross_val_score: 使用交叉验证。如果你们不知道交叉验证，请看我的机器学习指南。\n",
    "https://www.kaggle.com/kanncaa1/machine-learning-tutorial-for-beginners\n",
    "* epochs: 迭代数量"
   ]
  },
  {
   "cell_type": "code",
   "execution_count": 93,
   "metadata": {
    "_cell_guid": "8870c45b-b0fe-4050-a8af-41498a417ed5",
    "_uuid": "9361c3183a40fa0080055b7d5c1002aef68b4d77"
   },
   "outputs": [
    {
     "name": "stdout",
     "output_type": "stream",
     "text": [
      "Epoch 1/100\n",
      "232/232 [==============================] - 0s 348us/step - loss: 0.6931 - accuracy: 0.5086\n",
      "Epoch 2/100\n",
      "232/232 [==============================] - 0s 55us/step - loss: 0.6929 - accuracy: 0.5431\n",
      "Epoch 3/100\n",
      "232/232 [==============================] - 0s 56us/step - loss: 0.6927 - accuracy: 0.5431\n",
      "Epoch 4/100\n",
      "232/232 [==============================] - 0s 54us/step - loss: 0.6926 - accuracy: 0.5431\n",
      "Epoch 5/100\n",
      "232/232 [==============================] - 0s 53us/step - loss: 0.6924 - accuracy: 0.5431\n",
      "Epoch 6/100\n",
      "232/232 [==============================] - 0s 54us/step - loss: 0.6923 - accuracy: 0.5431\n",
      "Epoch 7/100\n",
      "232/232 [==============================] - 0s 51us/step - loss: 0.6922 - accuracy: 0.5431\n",
      "Epoch 8/100\n",
      "232/232 [==============================] - 0s 54us/step - loss: 0.6921 - accuracy: 0.5431\n",
      "Epoch 9/100\n",
      "232/232 [==============================] - 0s 56us/step - loss: 0.6920 - accuracy: 0.5431\n",
      "Epoch 10/100\n",
      "232/232 [==============================] - 0s 52us/step - loss: 0.6918 - accuracy: 0.5431\n",
      "Epoch 11/100\n",
      "232/232 [==============================] - 0s 58us/step - loss: 0.6917 - accuracy: 0.5431\n",
      "Epoch 12/100\n",
      "232/232 [==============================] - 0s 55us/step - loss: 0.6916 - accuracy: 0.5431\n",
      "Epoch 13/100\n",
      "232/232 [==============================] - 0s 63us/step - loss: 0.6915 - accuracy: 0.5431\n",
      "Epoch 14/100\n",
      "232/232 [==============================] - 0s 61us/step - loss: 0.6914 - accuracy: 0.5431\n",
      "Epoch 15/100\n",
      "232/232 [==============================] - 0s 62us/step - loss: 0.6913 - accuracy: 0.5431\n",
      "Epoch 16/100\n",
      "232/232 [==============================] - 0s 65us/step - loss: 0.6913 - accuracy: 0.5431\n",
      "Epoch 17/100\n",
      "232/232 [==============================] - 0s 68us/step - loss: 0.6912 - accuracy: 0.5431\n",
      "Epoch 18/100\n",
      "232/232 [==============================] - 0s 63us/step - loss: 0.6911 - accuracy: 0.5431\n",
      "Epoch 19/100\n",
      "232/232 [==============================] - 0s 64us/step - loss: 0.6910 - accuracy: 0.5431\n",
      "Epoch 20/100\n",
      "232/232 [==============================] - 0s 62us/step - loss: 0.6909 - accuracy: 0.5431\n",
      "Epoch 21/100\n",
      "232/232 [==============================] - 0s 66us/step - loss: 0.6909 - accuracy: 0.5431\n",
      "Epoch 22/100\n",
      "232/232 [==============================] - 0s 67us/step - loss: 0.6908 - accuracy: 0.5431\n",
      "Epoch 23/100\n",
      "232/232 [==============================] - 0s 63us/step - loss: 0.6907 - accuracy: 0.5431\n",
      "Epoch 24/100\n",
      "232/232 [==============================] - 0s 64us/step - loss: 0.6906 - accuracy: 0.5431\n",
      "Epoch 25/100\n",
      "232/232 [==============================] - 0s 63us/step - loss: 0.6906 - accuracy: 0.5431\n",
      "Epoch 26/100\n",
      "232/232 [==============================] - 0s 63us/step - loss: 0.6906 - accuracy: 0.5431\n",
      "Epoch 27/100\n",
      "232/232 [==============================] - 0s 66us/step - loss: 0.6904 - accuracy: 0.5431\n",
      "Epoch 28/100\n",
      "232/232 [==============================] - 0s 65us/step - loss: 0.6903 - accuracy: 0.5431\n",
      "Epoch 29/100\n",
      "232/232 [==============================] - 0s 65us/step - loss: 0.6903 - accuracy: 0.5431\n",
      "Epoch 30/100\n",
      "232/232 [==============================] - 0s 63us/step - loss: 0.6903 - accuracy: 0.5431\n",
      "Epoch 31/100\n",
      "232/232 [==============================] - 0s 63us/step - loss: 0.6902 - accuracy: 0.5431\n",
      "Epoch 32/100\n",
      "232/232 [==============================] - 0s 62us/step - loss: 0.6901 - accuracy: 0.5431\n",
      "Epoch 33/100\n",
      "232/232 [==============================] - 0s 61us/step - loss: 0.6901 - accuracy: 0.5431\n",
      "Epoch 34/100\n",
      "232/232 [==============================] - 0s 66us/step - loss: 0.6901 - accuracy: 0.5431\n",
      "Epoch 35/100\n",
      "232/232 [==============================] - 0s 61us/step - loss: 0.6900 - accuracy: 0.5431\n",
      "Epoch 36/100\n",
      "232/232 [==============================] - 0s 64us/step - loss: 0.6900 - accuracy: 0.5431\n",
      "Epoch 37/100\n",
      "232/232 [==============================] - 0s 65us/step - loss: 0.6900 - accuracy: 0.5431\n",
      "Epoch 38/100\n",
      "232/232 [==============================] - 0s 70us/step - loss: 0.6899 - accuracy: 0.5431\n",
      "Epoch 39/100\n",
      "232/232 [==============================] - 0s 63us/step - loss: 0.6899 - accuracy: 0.5431\n",
      "Epoch 40/100\n",
      "232/232 [==============================] - 0s 65us/step - loss: 0.6899 - accuracy: 0.5431\n",
      "Epoch 41/100\n",
      "232/232 [==============================] - 0s 63us/step - loss: 0.6899 - accuracy: 0.5431\n",
      "Epoch 42/100\n",
      "232/232 [==============================] - 0s 68us/step - loss: 0.6898 - accuracy: 0.5431\n",
      "Epoch 43/100\n",
      "232/232 [==============================] - 0s 63us/step - loss: 0.6898 - accuracy: 0.5431\n",
      "Epoch 44/100\n",
      "232/232 [==============================] - 0s 63us/step - loss: 0.6898 - accuracy: 0.5431\n",
      "Epoch 45/100\n",
      "232/232 [==============================] - 0s 64us/step - loss: 0.6898 - accuracy: 0.5431\n",
      "Epoch 46/100\n",
      "232/232 [==============================] - 0s 62us/step - loss: 0.6898 - accuracy: 0.5431\n",
      "Epoch 47/100\n",
      "232/232 [==============================] - 0s 64us/step - loss: 0.6898 - accuracy: 0.5431\n",
      "Epoch 48/100\n",
      "232/232 [==============================] - 0s 62us/step - loss: 0.6897 - accuracy: 0.5431\n",
      "Epoch 49/100\n",
      "232/232 [==============================] - 0s 65us/step - loss: 0.6898 - accuracy: 0.5431\n",
      "Epoch 50/100\n",
      "232/232 [==============================] - 0s 65us/step - loss: 0.6897 - accuracy: 0.5431\n",
      "Epoch 51/100\n",
      "232/232 [==============================] - 0s 62us/step - loss: 0.6898 - accuracy: 0.5431\n",
      "Epoch 52/100\n",
      "232/232 [==============================] - 0s 61us/step - loss: 0.6897 - accuracy: 0.5431\n",
      "Epoch 53/100\n",
      "232/232 [==============================] - 0s 61us/step - loss: 0.6897 - accuracy: 0.5431\n",
      "Epoch 54/100\n",
      "232/232 [==============================] - 0s 61us/step - loss: 0.6897 - accuracy: 0.5431\n",
      "Epoch 55/100\n",
      "232/232 [==============================] - 0s 61us/step - loss: 0.6897 - accuracy: 0.5431\n",
      "Epoch 56/100\n",
      "232/232 [==============================] - 0s 65us/step - loss: 0.6897 - accuracy: 0.5431\n",
      "Epoch 57/100\n",
      "232/232 [==============================] - 0s 61us/step - loss: 0.6897 - accuracy: 0.5431\n",
      "Epoch 58/100\n",
      "232/232 [==============================] - 0s 64us/step - loss: 0.6896 - accuracy: 0.5431\n",
      "Epoch 59/100\n",
      "232/232 [==============================] - 0s 64us/step - loss: 0.6896 - accuracy: 0.5431\n",
      "Epoch 60/100\n",
      "232/232 [==============================] - 0s 64us/step - loss: 0.6896 - accuracy: 0.5431\n",
      "Epoch 61/100\n",
      "232/232 [==============================] - 0s 64us/step - loss: 0.6896 - accuracy: 0.5431\n",
      "Epoch 62/100\n",
      "232/232 [==============================] - 0s 63us/step - loss: 0.6896 - accuracy: 0.5431\n",
      "Epoch 63/100\n",
      "232/232 [==============================] - 0s 71us/step - loss: 0.6896 - accuracy: 0.5431\n",
      "Epoch 64/100\n",
      "232/232 [==============================] - 0s 62us/step - loss: 0.6896 - accuracy: 0.5431\n",
      "Epoch 65/100\n",
      "232/232 [==============================] - 0s 68us/step - loss: 0.6896 - accuracy: 0.5431\n",
      "Epoch 66/100\n",
      "232/232 [==============================] - 0s 62us/step - loss: 0.6895 - accuracy: 0.5431\n",
      "Epoch 67/100\n",
      "232/232 [==============================] - 0s 65us/step - loss: 0.6895 - accuracy: 0.5431\n",
      "Epoch 68/100\n",
      "232/232 [==============================] - 0s 64us/step - loss: 0.6895 - accuracy: 0.5431\n",
      "Epoch 69/100\n",
      "232/232 [==============================] - 0s 62us/step - loss: 0.6895 - accuracy: 0.5431\n",
      "Epoch 70/100\n",
      "232/232 [==============================] - 0s 62us/step - loss: 0.6895 - accuracy: 0.5431\n",
      "Epoch 71/100\n",
      "232/232 [==============================] - 0s 65us/step - loss: 0.6895 - accuracy: 0.5431\n",
      "Epoch 72/100\n",
      "232/232 [==============================] - 0s 62us/step - loss: 0.6895 - accuracy: 0.5431\n",
      "Epoch 73/100\n",
      "232/232 [==============================] - 0s 63us/step - loss: 0.6895 - accuracy: 0.5431\n",
      "Epoch 74/100\n",
      "232/232 [==============================] - 0s 64us/step - loss: 0.6895 - accuracy: 0.5431\n",
      "Epoch 75/100\n",
      "232/232 [==============================] - 0s 64us/step - loss: 0.6895 - accuracy: 0.5431\n",
      "Epoch 76/100\n",
      "232/232 [==============================] - 0s 62us/step - loss: 0.6895 - accuracy: 0.5431\n",
      "Epoch 77/100\n",
      "232/232 [==============================] - 0s 64us/step - loss: 0.6895 - accuracy: 0.5431\n",
      "Epoch 78/100\n",
      "232/232 [==============================] - 0s 66us/step - loss: 0.6895 - accuracy: 0.5431\n",
      "Epoch 79/100\n",
      "232/232 [==============================] - 0s 62us/step - loss: 0.6895 - accuracy: 0.5431\n",
      "Epoch 80/100\n"
     ]
    },
    {
     "name": "stdout",
     "output_type": "stream",
     "text": [
      "232/232 [==============================] - 0s 65us/step - loss: 0.6895 - accuracy: 0.5431\n",
      "Epoch 81/100\n",
      "232/232 [==============================] - 0s 62us/step - loss: 0.6895 - accuracy: 0.5431\n",
      "Epoch 82/100\n",
      "232/232 [==============================] - 0s 65us/step - loss: 0.6895 - accuracy: 0.5431\n",
      "Epoch 83/100\n",
      "232/232 [==============================] - 0s 64us/step - loss: 0.6895 - accuracy: 0.5431\n",
      "Epoch 84/100\n",
      "232/232 [==============================] - 0s 64us/step - loss: 0.6895 - accuracy: 0.5431\n",
      "Epoch 85/100\n",
      "232/232 [==============================] - 0s 68us/step - loss: 0.6895 - accuracy: 0.5431\n",
      "Epoch 86/100\n",
      "232/232 [==============================] - 0s 66us/step - loss: 0.6895 - accuracy: 0.5431\n",
      "Epoch 87/100\n",
      "232/232 [==============================] - 0s 63us/step - loss: 0.6895 - accuracy: 0.5431\n",
      "Epoch 88/100\n",
      "232/232 [==============================] - 0s 62us/step - loss: 0.6896 - accuracy: 0.5431\n",
      "Epoch 89/100\n",
      "232/232 [==============================] - 0s 64us/step - loss: 0.6895 - accuracy: 0.5431\n",
      "Epoch 90/100\n",
      "232/232 [==============================] - 0s 65us/step - loss: 0.6895 - accuracy: 0.5431\n",
      "Epoch 91/100\n",
      "232/232 [==============================] - 0s 62us/step - loss: 0.6895 - accuracy: 0.5431\n",
      "Epoch 92/100\n",
      "232/232 [==============================] - 0s 64us/step - loss: 0.6895 - accuracy: 0.5431\n",
      "Epoch 93/100\n",
      "232/232 [==============================] - 0s 63us/step - loss: 0.6895 - accuracy: 0.5431\n",
      "Epoch 94/100\n",
      "232/232 [==============================] - 0s 69us/step - loss: 0.6895 - accuracy: 0.5431\n",
      "Epoch 95/100\n",
      "232/232 [==============================] - 0s 67us/step - loss: 0.6895 - accuracy: 0.5431\n",
      "Epoch 96/100\n",
      "232/232 [==============================] - 0s 63us/step - loss: 0.6895 - accuracy: 0.5431\n",
      "Epoch 97/100\n",
      "232/232 [==============================] - 0s 64us/step - loss: 0.6895 - accuracy: 0.5431\n",
      "Epoch 98/100\n",
      "232/232 [==============================] - 0s 66us/step - loss: 0.6895 - accuracy: 0.5431\n",
      "Epoch 99/100\n",
      "232/232 [==============================] - 0s 70us/step - loss: 0.6895 - accuracy: 0.5431\n",
      "Epoch 100/100\n",
      "232/232 [==============================] - 0s 62us/step - loss: 0.6895 - accuracy: 0.5431\n",
      "116/116 [==============================] - 0s 98us/step\n",
      "Epoch 1/100\n",
      "232/232 [==============================] - 0s 339us/step - loss: 0.6937 - accuracy: 0.5216\n",
      "Epoch 2/100\n",
      "232/232 [==============================] - 0s 56us/step - loss: 0.6922 - accuracy: 0.5216\n",
      "Epoch 3/100\n",
      "232/232 [==============================] - 0s 55us/step - loss: 0.6913 - accuracy: 0.5216\n",
      "Epoch 4/100\n",
      "232/232 [==============================] - 0s 52us/step - loss: 0.6910 - accuracy: 0.5216\n",
      "Epoch 5/100\n",
      "232/232 [==============================] - 0s 54us/step - loss: 0.6898 - accuracy: 0.5216\n",
      "Epoch 6/100\n",
      "232/232 [==============================] - 0s 54us/step - loss: 0.6884 - accuracy: 0.5216\n",
      "Epoch 7/100\n",
      "232/232 [==============================] - 0s 52us/step - loss: 0.6868 - accuracy: 0.5216\n",
      "Epoch 8/100\n",
      "232/232 [==============================] - 0s 52us/step - loss: 0.6845 - accuracy: 0.5216\n",
      "Epoch 9/100\n",
      "232/232 [==============================] - 0s 53us/step - loss: 0.6811 - accuracy: 0.5216\n",
      "Epoch 10/100\n",
      "232/232 [==============================] - 0s 52us/step - loss: 0.6756 - accuracy: 0.5216\n",
      "Epoch 11/100\n",
      "232/232 [==============================] - 0s 56us/step - loss: 0.6677 - accuracy: 0.5216\n",
      "Epoch 12/100\n",
      "232/232 [==============================] - 0s 56us/step - loss: 0.6570 - accuracy: 0.5216\n",
      "Epoch 13/100\n",
      "232/232 [==============================] - 0s 61us/step - loss: 0.6413 - accuracy: 0.5216\n",
      "Epoch 14/100\n",
      "232/232 [==============================] - 0s 63us/step - loss: 0.6258 - accuracy: 0.5216\n",
      "Epoch 15/100\n",
      "232/232 [==============================] - 0s 61us/step - loss: 0.6061 - accuracy: 0.5216\n",
      "Epoch 16/100\n",
      "232/232 [==============================] - 0s 62us/step - loss: 0.5895 - accuracy: 0.6422\n",
      "Epoch 17/100\n",
      "232/232 [==============================] - 0s 63us/step - loss: 0.5601 - accuracy: 0.6724\n",
      "Epoch 18/100\n",
      "232/232 [==============================] - 0s 62us/step - loss: 0.5079 - accuracy: 0.8491\n",
      "Epoch 19/100\n",
      "232/232 [==============================] - 0s 62us/step - loss: 0.4503 - accuracy: 0.9310\n",
      "Epoch 20/100\n",
      "232/232 [==============================] - 0s 65us/step - loss: 0.3902 - accuracy: 0.9397\n",
      "Epoch 21/100\n",
      "232/232 [==============================] - 0s 63us/step - loss: 0.3547 - accuracy: 0.8793\n",
      "Epoch 22/100\n",
      "232/232 [==============================] - 0s 65us/step - loss: 0.3450 - accuracy: 0.8578\n",
      "Epoch 23/100\n",
      "232/232 [==============================] - 0s 64us/step - loss: 0.2973 - accuracy: 0.9052\n",
      "Epoch 24/100\n",
      "232/232 [==============================] - 0s 66us/step - loss: 0.2939 - accuracy: 0.9009\n",
      "Epoch 25/100\n",
      "232/232 [==============================] - 0s 64us/step - loss: 0.2361 - accuracy: 0.9397\n",
      "Epoch 26/100\n",
      "232/232 [==============================] - 0s 65us/step - loss: 0.2415 - accuracy: 0.9138\n",
      "Epoch 27/100\n",
      "232/232 [==============================] - 0s 63us/step - loss: 0.2467 - accuracy: 0.8966\n",
      "Epoch 28/100\n",
      "232/232 [==============================] - 0s 65us/step - loss: 0.2072 - accuracy: 0.9440\n",
      "Epoch 29/100\n",
      "232/232 [==============================] - 0s 64us/step - loss: 0.1913 - accuracy: 0.9397\n",
      "Epoch 30/100\n",
      "232/232 [==============================] - 0s 63us/step - loss: 0.1807 - accuracy: 0.9526\n",
      "Epoch 31/100\n",
      "232/232 [==============================] - 0s 63us/step - loss: 0.1635 - accuracy: 0.9612\n",
      "Epoch 32/100\n",
      "232/232 [==============================] - 0s 63us/step - loss: 0.1605 - accuracy: 0.9440\n",
      "Epoch 33/100\n",
      "232/232 [==============================] - 0s 64us/step - loss: 0.1569 - accuracy: 0.9569\n",
      "Epoch 34/100\n",
      "232/232 [==============================] - 0s 64us/step - loss: 0.1562 - accuracy: 0.9526\n",
      "Epoch 35/100\n",
      "232/232 [==============================] - 0s 63us/step - loss: 0.1426 - accuracy: 0.9612\n",
      "Epoch 36/100\n",
      "232/232 [==============================] - 0s 62us/step - loss: 0.1312 - accuracy: 0.9655\n",
      "Epoch 37/100\n",
      "232/232 [==============================] - 0s 63us/step - loss: 0.1307 - accuracy: 0.9612\n",
      "Epoch 38/100\n",
      "232/232 [==============================] - 0s 65us/step - loss: 0.1367 - accuracy: 0.9698\n",
      "Epoch 39/100\n",
      "232/232 [==============================] - 0s 68us/step - loss: 0.1216 - accuracy: 0.9698\n",
      "Epoch 40/100\n",
      "232/232 [==============================] - 0s 66us/step - loss: 0.1142 - accuracy: 0.9741\n",
      "Epoch 41/100\n",
      "232/232 [==============================] - 0s 62us/step - loss: 0.1122 - accuracy: 0.9698\n",
      "Epoch 42/100\n",
      "232/232 [==============================] - 0s 65us/step - loss: 0.1059 - accuracy: 0.9741\n",
      "Epoch 43/100\n",
      "232/232 [==============================] - 0s 65us/step - loss: 0.1006 - accuracy: 0.9741\n",
      "Epoch 44/100\n",
      "232/232 [==============================] - 0s 64us/step - loss: 0.1007 - accuracy: 0.9655\n",
      "Epoch 45/100\n",
      "232/232 [==============================] - 0s 63us/step - loss: 0.1035 - accuracy: 0.9698\n",
      "Epoch 46/100\n",
      "232/232 [==============================] - 0s 64us/step - loss: 0.0930 - accuracy: 0.9741\n",
      "Epoch 47/100\n",
      "232/232 [==============================] - 0s 64us/step - loss: 0.0958 - accuracy: 0.9741\n",
      "Epoch 48/100\n",
      "232/232 [==============================] - 0s 63us/step - loss: 0.0859 - accuracy: 0.9741\n",
      "Epoch 49/100\n",
      "232/232 [==============================] - 0s 68us/step - loss: 0.0888 - accuracy: 0.9828\n",
      "Epoch 50/100\n",
      "232/232 [==============================] - 0s 64us/step - loss: 0.1012 - accuracy: 0.9698\n",
      "Epoch 51/100\n",
      "232/232 [==============================] - 0s 61us/step - loss: 0.0924 - accuracy: 0.9784\n",
      "Epoch 52/100\n",
      "232/232 [==============================] - 0s 68us/step - loss: 0.0819 - accuracy: 0.9741\n",
      "Epoch 53/100\n",
      "232/232 [==============================] - 0s 69us/step - loss: 0.0791 - accuracy: 0.9698\n",
      "Epoch 54/100\n",
      "232/232 [==============================] - 0s 66us/step - loss: 0.0726 - accuracy: 0.9784\n",
      "Epoch 55/100\n",
      "232/232 [==============================] - 0s 61us/step - loss: 0.0700 - accuracy: 0.9828\n",
      "Epoch 56/100\n",
      "232/232 [==============================] - 0s 67us/step - loss: 0.0706 - accuracy: 0.9784\n",
      "Epoch 57/100\n",
      "232/232 [==============================] - 0s 64us/step - loss: 0.0692 - accuracy: 0.9828\n",
      "Epoch 58/100\n",
      "232/232 [==============================] - 0s 63us/step - loss: 0.0670 - accuracy: 0.9828\n",
      "Epoch 59/100\n"
     ]
    },
    {
     "name": "stdout",
     "output_type": "stream",
     "text": [
      "232/232 [==============================] - 0s 64us/step - loss: 0.0635 - accuracy: 0.9828\n",
      "Epoch 60/100\n",
      "232/232 [==============================] - 0s 63us/step - loss: 0.0617 - accuracy: 0.9828\n",
      "Epoch 61/100\n",
      "232/232 [==============================] - 0s 63us/step - loss: 0.0591 - accuracy: 0.9828\n",
      "Epoch 62/100\n",
      "232/232 [==============================] - 0s 68us/step - loss: 0.0562 - accuracy: 0.9828\n",
      "Epoch 63/100\n",
      "232/232 [==============================] - 0s 64us/step - loss: 0.0546 - accuracy: 0.9828\n",
      "Epoch 64/100\n",
      "232/232 [==============================] - 0s 64us/step - loss: 0.0541 - accuracy: 0.9914\n",
      "Epoch 65/100\n",
      "232/232 [==============================] - 0s 68us/step - loss: 0.0594 - accuracy: 0.9871\n",
      "Epoch 66/100\n",
      "232/232 [==============================] - 0s 65us/step - loss: 0.0596 - accuracy: 0.9828\n",
      "Epoch 67/100\n",
      "232/232 [==============================] - 0s 62us/step - loss: 0.0493 - accuracy: 0.9871\n",
      "Epoch 68/100\n",
      "232/232 [==============================] - 0s 62us/step - loss: 0.0663 - accuracy: 0.9784\n",
      "Epoch 69/100\n",
      "232/232 [==============================] - 0s 67us/step - loss: 0.0464 - accuracy: 0.9871\n",
      "Epoch 70/100\n",
      "232/232 [==============================] - 0s 63us/step - loss: 0.0505 - accuracy: 0.9871\n",
      "Epoch 71/100\n",
      "232/232 [==============================] - 0s 64us/step - loss: 0.0513 - accuracy: 0.9871\n",
      "Epoch 72/100\n",
      "232/232 [==============================] - 0s 64us/step - loss: 0.0400 - accuracy: 0.9957\n",
      "Epoch 73/100\n",
      "232/232 [==============================] - 0s 64us/step - loss: 0.0396 - accuracy: 0.9871\n",
      "Epoch 74/100\n",
      "232/232 [==============================] - 0s 64us/step - loss: 0.0407 - accuracy: 0.9957\n",
      "Epoch 75/100\n",
      "232/232 [==============================] - 0s 63us/step - loss: 0.0436 - accuracy: 0.9828\n",
      "Epoch 76/100\n",
      "232/232 [==============================] - 0s 62us/step - loss: 0.0422 - accuracy: 0.9914\n",
      "Epoch 77/100\n",
      "232/232 [==============================] - 0s 70us/step - loss: 0.0384 - accuracy: 0.9914\n",
      "Epoch 78/100\n",
      "232/232 [==============================] - 0s 65us/step - loss: 0.0461 - accuracy: 0.9871\n",
      "Epoch 79/100\n",
      "232/232 [==============================] - 0s 65us/step - loss: 0.0403 - accuracy: 0.9871\n",
      "Epoch 80/100\n",
      "232/232 [==============================] - 0s 64us/step - loss: 0.0416 - accuracy: 0.9957\n",
      "Epoch 81/100\n",
      "232/232 [==============================] - 0s 65us/step - loss: 0.0324 - accuracy: 0.9914\n",
      "Epoch 82/100\n",
      "232/232 [==============================] - 0s 64us/step - loss: 0.0318 - accuracy: 0.9914\n",
      "Epoch 83/100\n",
      "232/232 [==============================] - 0s 65us/step - loss: 0.0296 - accuracy: 0.9957\n",
      "Epoch 84/100\n",
      "232/232 [==============================] - 0s 63us/step - loss: 0.0312 - accuracy: 1.0000\n",
      "Epoch 85/100\n",
      "232/232 [==============================] - 0s 64us/step - loss: 0.0381 - accuracy: 0.9914\n",
      "Epoch 86/100\n",
      "232/232 [==============================] - 0s 64us/step - loss: 0.0469 - accuracy: 0.9784\n",
      "Epoch 87/100\n",
      "232/232 [==============================] - 0s 64us/step - loss: 0.0339 - accuracy: 0.9914\n",
      "Epoch 88/100\n",
      "232/232 [==============================] - 0s 66us/step - loss: 0.0280 - accuracy: 0.9957\n",
      "Epoch 89/100\n",
      "232/232 [==============================] - 0s 62us/step - loss: 0.0308 - accuracy: 0.9914\n",
      "Epoch 90/100\n",
      "232/232 [==============================] - 0s 62us/step - loss: 0.0330 - accuracy: 0.9871\n",
      "Epoch 91/100\n",
      "232/232 [==============================] - 0s 62us/step - loss: 0.0257 - accuracy: 0.9957\n",
      "Epoch 92/100\n",
      "232/232 [==============================] - 0s 64us/step - loss: 0.0302 - accuracy: 0.9957\n",
      "Epoch 93/100\n",
      "232/232 [==============================] - 0s 61us/step - loss: 0.0264 - accuracy: 0.9957\n",
      "Epoch 94/100\n",
      "232/232 [==============================] - 0s 64us/step - loss: 0.0237 - accuracy: 0.9957\n",
      "Epoch 95/100\n",
      "232/232 [==============================] - 0s 64us/step - loss: 0.0238 - accuracy: 1.0000\n",
      "Epoch 96/100\n",
      "232/232 [==============================] - 0s 65us/step - loss: 0.0200 - accuracy: 1.0000\n",
      "Epoch 97/100\n",
      "232/232 [==============================] - 0s 72us/step - loss: 0.0202 - accuracy: 1.0000\n",
      "Epoch 98/100\n",
      "232/232 [==============================] - 0s 62us/step - loss: 0.0226 - accuracy: 0.9957\n",
      "Epoch 99/100\n",
      "232/232 [==============================] - 0s 65us/step - loss: 0.0223 - accuracy: 0.9957\n",
      "Epoch 100/100\n",
      "232/232 [==============================] - 0s 63us/step - loss: 0.0236 - accuracy: 1.0000\n",
      "116/116 [==============================] - 0s 99us/step\n",
      "Epoch 1/100\n",
      "232/232 [==============================] - 0s 340us/step - loss: 0.6932 - accuracy: 0.4957\n",
      "Epoch 2/100\n",
      "232/232 [==============================] - 0s 55us/step - loss: 0.6930 - accuracy: 0.4957\n",
      "Epoch 3/100\n",
      "232/232 [==============================] - 0s 56us/step - loss: 0.6928 - accuracy: 0.5302\n",
      "Epoch 4/100\n",
      "232/232 [==============================] - 0s 56us/step - loss: 0.6923 - accuracy: 0.5603\n",
      "Epoch 5/100\n",
      "232/232 [==============================] - 0s 54us/step - loss: 0.6916 - accuracy: 0.6078\n",
      "Epoch 6/100\n",
      "232/232 [==============================] - 0s 53us/step - loss: 0.6899 - accuracy: 0.5043\n",
      "Epoch 7/100\n",
      "232/232 [==============================] - 0s 53us/step - loss: 0.6869 - accuracy: 0.4957\n",
      "Epoch 8/100\n",
      "232/232 [==============================] - 0s 55us/step - loss: 0.6821 - accuracy: 0.6078\n",
      "Epoch 9/100\n",
      "232/232 [==============================] - 0s 53us/step - loss: 0.6777 - accuracy: 0.4957\n",
      "Epoch 10/100\n",
      "232/232 [==============================] - 0s 53us/step - loss: 0.6692 - accuracy: 0.5129\n",
      "Epoch 11/100\n",
      "232/232 [==============================] - 0s 55us/step - loss: 0.6541 - accuracy: 0.6509\n",
      "Epoch 12/100\n",
      "232/232 [==============================] - 0s 56us/step - loss: 0.6386 - accuracy: 0.6552\n",
      "Epoch 13/100\n",
      "232/232 [==============================] - 0s 61us/step - loss: 0.6243 - accuracy: 0.5862\n",
      "Epoch 14/100\n",
      "232/232 [==============================] - 0s 60us/step - loss: 0.6144 - accuracy: 0.7974\n",
      "Epoch 15/100\n",
      "232/232 [==============================] - 0s 61us/step - loss: 0.5895 - accuracy: 0.6293\n",
      "Epoch 16/100\n",
      "232/232 [==============================] - 0s 64us/step - loss: 0.5694 - accuracy: 0.8405\n",
      "Epoch 17/100\n",
      "232/232 [==============================] - 0s 61us/step - loss: 0.5740 - accuracy: 0.6767\n",
      "Epoch 18/100\n",
      "232/232 [==============================] - 0s 63us/step - loss: 0.5523 - accuracy: 0.8319\n",
      "Epoch 19/100\n",
      "232/232 [==============================] - 0s 63us/step - loss: 0.5322 - accuracy: 0.8147\n",
      "Epoch 20/100\n",
      "232/232 [==============================] - 0s 62us/step - loss: 0.5127 - accuracy: 0.7802\n",
      "Epoch 21/100\n",
      "232/232 [==============================] - 0s 65us/step - loss: 0.4946 - accuracy: 0.8276\n",
      "Epoch 22/100\n",
      "232/232 [==============================] - 0s 67us/step - loss: 0.4894 - accuracy: 0.8362\n",
      "Epoch 23/100\n",
      "232/232 [==============================] - 0s 61us/step - loss: 0.4725 - accuracy: 0.8793\n",
      "Epoch 24/100\n",
      "232/232 [==============================] - 0s 62us/step - loss: 0.4569 - accuracy: 0.8836\n",
      "Epoch 25/100\n",
      "232/232 [==============================] - 0s 62us/step - loss: 0.4467 - accuracy: 0.8879\n",
      "Epoch 26/100\n",
      "232/232 [==============================] - 0s 63us/step - loss: 0.4385 - accuracy: 0.8922\n",
      "Epoch 27/100\n",
      "232/232 [==============================] - 0s 63us/step - loss: 0.4341 - accuracy: 0.9224\n",
      "Epoch 28/100\n",
      "232/232 [==============================] - 0s 63us/step - loss: 0.4241 - accuracy: 0.8793\n",
      "Epoch 29/100\n",
      "232/232 [==============================] - 0s 63us/step - loss: 0.4170 - accuracy: 0.8836\n",
      "Epoch 30/100\n",
      "232/232 [==============================] - 0s 64us/step - loss: 0.4213 - accuracy: 0.9483\n",
      "Epoch 31/100\n",
      "232/232 [==============================] - 0s 67us/step - loss: 0.4486 - accuracy: 0.8448\n",
      "Epoch 32/100\n",
      "232/232 [==============================] - 0s 64us/step - loss: 0.4053 - accuracy: 0.9052\n",
      "Epoch 33/100\n",
      "232/232 [==============================] - 0s 63us/step - loss: 0.4080 - accuracy: 0.9483\n",
      "Epoch 34/100\n",
      "232/232 [==============================] - 0s 64us/step - loss: 0.3994 - accuracy: 0.9009\n",
      "Epoch 35/100\n",
      "232/232 [==============================] - 0s 63us/step - loss: 0.3862 - accuracy: 0.9267\n",
      "Epoch 36/100\n",
      "232/232 [==============================] - 0s 64us/step - loss: 0.3815 - accuracy: 0.9655\n",
      "Epoch 37/100\n",
      "232/232 [==============================] - 0s 65us/step - loss: 0.3666 - accuracy: 0.9224\n",
      "Epoch 38/100\n"
     ]
    },
    {
     "name": "stdout",
     "output_type": "stream",
     "text": [
      "232/232 [==============================] - 0s 66us/step - loss: 0.3652 - accuracy: 0.9655\n",
      "Epoch 39/100\n",
      "232/232 [==============================] - 0s 63us/step - loss: 0.3732 - accuracy: 0.9052\n",
      "Epoch 40/100\n",
      "232/232 [==============================] - 0s 62us/step - loss: 0.3732 - accuracy: 0.9310\n",
      "Epoch 41/100\n",
      "232/232 [==============================] - 0s 65us/step - loss: 0.3503 - accuracy: 0.9655\n",
      "Epoch 42/100\n",
      "232/232 [==============================] - 0s 60us/step - loss: 0.3504 - accuracy: 0.9310\n",
      "Epoch 43/100\n",
      "232/232 [==============================] - 0s 69us/step - loss: 0.3568 - accuracy: 0.9569\n",
      "Epoch 44/100\n",
      "232/232 [==============================] - 0s 63us/step - loss: 0.3348 - accuracy: 0.9397\n",
      "Epoch 45/100\n",
      "232/232 [==============================] - 0s 65us/step - loss: 0.3491 - accuracy: 0.9741\n",
      "Epoch 46/100\n",
      "232/232 [==============================] - 0s 61us/step - loss: 0.3577 - accuracy: 0.9052\n",
      "Epoch 47/100\n",
      "232/232 [==============================] - 0s 63us/step - loss: 0.3272 - accuracy: 0.9612\n",
      "Epoch 48/100\n",
      "232/232 [==============================] - 0s 66us/step - loss: 0.3260 - accuracy: 0.9440\n",
      "Epoch 49/100\n",
      "232/232 [==============================] - 0s 64us/step - loss: 0.3299 - accuracy: 0.9483\n",
      "Epoch 50/100\n",
      "232/232 [==============================] - 0s 65us/step - loss: 0.3205 - accuracy: 0.9784\n",
      "Epoch 51/100\n",
      "232/232 [==============================] - 0s 62us/step - loss: 0.3135 - accuracy: 0.9612\n",
      "Epoch 52/100\n",
      "232/232 [==============================] - 0s 66us/step - loss: 0.3139 - accuracy: 0.9784\n",
      "Epoch 53/100\n",
      "232/232 [==============================] - 0s 66us/step - loss: 0.3072 - accuracy: 0.9569\n",
      "Epoch 54/100\n",
      "232/232 [==============================] - 0s 67us/step - loss: 0.3042 - accuracy: 0.9741\n",
      "Epoch 55/100\n",
      "232/232 [==============================] - 0s 63us/step - loss: 0.3078 - accuracy: 0.9526\n",
      "Epoch 56/100\n",
      "232/232 [==============================] - 0s 63us/step - loss: 0.2990 - accuracy: 0.9871\n",
      "Epoch 57/100\n",
      "232/232 [==============================] - 0s 63us/step - loss: 0.2955 - accuracy: 0.9569\n",
      "Epoch 58/100\n",
      "232/232 [==============================] - 0s 65us/step - loss: 0.2981 - accuracy: 0.9569\n",
      "Epoch 59/100\n",
      "232/232 [==============================] - 0s 62us/step - loss: 0.2894 - accuracy: 0.9784\n",
      "Epoch 60/100\n",
      "232/232 [==============================] - 0s 62us/step - loss: 0.2885 - accuracy: 0.9698\n",
      "Epoch 61/100\n",
      "232/232 [==============================] - 0s 66us/step - loss: 0.2850 - accuracy: 0.9828\n",
      "Epoch 62/100\n",
      "232/232 [==============================] - 0s 68us/step - loss: 0.2868 - accuracy: 0.9698\n",
      "Epoch 63/100\n",
      "232/232 [==============================] - 0s 62us/step - loss: 0.2812 - accuracy: 0.9828\n",
      "Epoch 64/100\n",
      "232/232 [==============================] - 0s 62us/step - loss: 0.2770 - accuracy: 0.9828\n",
      "Epoch 65/100\n",
      "232/232 [==============================] - 0s 65us/step - loss: 0.2881 - accuracy: 0.9526\n",
      "Epoch 66/100\n",
      "232/232 [==============================] - 0s 64us/step - loss: 0.2786 - accuracy: 0.9828\n",
      "Epoch 67/100\n",
      "232/232 [==============================] - 0s 62us/step - loss: 0.2754 - accuracy: 0.9828\n",
      "Epoch 68/100\n",
      "232/232 [==============================] - 0s 62us/step - loss: 0.2792 - accuracy: 0.9698\n",
      "Epoch 69/100\n",
      "232/232 [==============================] - 0s 69us/step - loss: 0.2774 - accuracy: 0.9698\n",
      "Epoch 70/100\n",
      "232/232 [==============================] - 0s 63us/step - loss: 0.2716 - accuracy: 0.9784\n",
      "Epoch 71/100\n",
      "232/232 [==============================] - 0s 62us/step - loss: 0.2640 - accuracy: 0.9871\n",
      "Epoch 72/100\n",
      "232/232 [==============================] - 0s 68us/step - loss: 0.2698 - accuracy: 0.9655\n",
      "Epoch 73/100\n",
      "232/232 [==============================] - 0s 64us/step - loss: 0.2613 - accuracy: 0.9828\n",
      "Epoch 74/100\n",
      "232/232 [==============================] - 0s 63us/step - loss: 0.2595 - accuracy: 0.9828\n",
      "Epoch 75/100\n",
      "232/232 [==============================] - 0s 63us/step - loss: 0.2576 - accuracy: 0.9784\n",
      "Epoch 76/100\n",
      "232/232 [==============================] - 0s 62us/step - loss: 0.2573 - accuracy: 0.9871\n",
      "Epoch 77/100\n",
      "232/232 [==============================] - 0s 62us/step - loss: 0.2534 - accuracy: 0.9871\n",
      "Epoch 78/100\n",
      "232/232 [==============================] - 0s 63us/step - loss: 0.2541 - accuracy: 0.9871\n",
      "Epoch 79/100\n",
      "232/232 [==============================] - 0s 61us/step - loss: 0.2501 - accuracy: 0.9871\n",
      "Epoch 80/100\n",
      "232/232 [==============================] - 0s 63us/step - loss: 0.2463 - accuracy: 0.9871\n",
      "Epoch 81/100\n",
      "232/232 [==============================] - 0s 70us/step - loss: 0.2446 - accuracy: 0.9828\n",
      "Epoch 82/100\n",
      "232/232 [==============================] - 0s 62us/step - loss: 0.2467 - accuracy: 0.9871\n",
      "Epoch 83/100\n",
      "232/232 [==============================] - 0s 67us/step - loss: 0.2410 - accuracy: 0.9871\n",
      "Epoch 84/100\n",
      "232/232 [==============================] - 0s 61us/step - loss: 0.2445 - accuracy: 0.9914\n",
      "Epoch 85/100\n",
      "232/232 [==============================] - 0s 61us/step - loss: 0.2400 - accuracy: 0.9828\n",
      "Epoch 86/100\n",
      "232/232 [==============================] - 0s 63us/step - loss: 0.2413 - accuracy: 0.9871\n",
      "Epoch 87/100\n",
      "232/232 [==============================] - 0s 62us/step - loss: 0.2656 - accuracy: 0.9784\n",
      "Epoch 88/100\n",
      "232/232 [==============================] - 0s 63us/step - loss: 0.2476 - accuracy: 0.9526\n",
      "Epoch 89/100\n",
      "232/232 [==============================] - 0s 64us/step - loss: 0.2628 - accuracy: 0.9741\n",
      "Epoch 90/100\n",
      "232/232 [==============================] - 0s 70us/step - loss: 0.2348 - accuracy: 0.9871\n",
      "Epoch 91/100\n",
      "232/232 [==============================] - 0s 62us/step - loss: 0.2306 - accuracy: 0.9914\n",
      "Epoch 92/100\n",
      "232/232 [==============================] - 0s 64us/step - loss: 0.2308 - accuracy: 0.9871\n",
      "Epoch 93/100\n",
      "232/232 [==============================] - 0s 63us/step - loss: 0.2294 - accuracy: 0.9828\n",
      "Epoch 94/100\n",
      "232/232 [==============================] - 0s 70us/step - loss: 0.2340 - accuracy: 0.9828\n",
      "Epoch 95/100\n",
      "232/232 [==============================] - 0s 61us/step - loss: 0.2385 - accuracy: 0.9784\n",
      "Epoch 96/100\n",
      "232/232 [==============================] - 0s 62us/step - loss: 0.3289 - accuracy: 0.9181\n",
      "Epoch 97/100\n",
      "232/232 [==============================] - 0s 64us/step - loss: 0.2326 - accuracy: 0.9784\n",
      "Epoch 98/100\n",
      "232/232 [==============================] - 0s 65us/step - loss: 0.2263 - accuracy: 0.9828\n",
      "Epoch 99/100\n",
      "232/232 [==============================] - 0s 62us/step - loss: 0.2178 - accuracy: 0.9914\n",
      "Epoch 100/100\n",
      "232/232 [==============================] - 0s 63us/step - loss: 0.2161 - accuracy: 0.9871\n",
      "116/116 [==============================] - 0s 102us/step\n",
      "Accuracy mean: 0.7557471295197805\n",
      "Accuracy variance: 0.23092438143369948\n"
     ]
    }
   ],
   "source": [
    "# 评估ANN\n",
    "from keras.wrappers.scikit_learn import KerasClassifier\n",
    "from sklearn.model_selection import cross_val_score\n",
    "from keras.models import Sequential # 载入神经网络库\n",
    "from keras.layers import Dense # 载入我们层库\n",
    "def build_classifier():\n",
    "    classifier = Sequential() # 载入神经网络\n",
    "    classifier.add(Dense(units = 8, kernel_initializer = 'uniform', activation = 'relu', input_dim = x_train.shape[1]))\n",
    "    classifier.add(Dense(units = 4, kernel_initializer = 'uniform', activation = 'relu'))\n",
    "    classifier.add(Dense(units = 1, kernel_initializer = 'uniform', activation = 'sigmoid'))\n",
    "    classifier.compile(optimizer = 'adam', loss = 'binary_crossentropy', metrics = ['accuracy'])\n",
    "    return classifier\n",
    "classifier = KerasClassifier(build_fn = build_classifier, epochs = 100)\n",
    "accuracies = cross_val_score(estimator = classifier, X = x_train, y = y_train, cv = 3)\n",
    "mean = accuracies.mean()\n",
    "variance = accuracies.std()\n",
    "print(\"Accuracy mean: \"+ str(mean))\n",
    "print(\"Accuracy variance: \"+ str(variance))"
   ]
  },
  {
   "cell_type": "code",
   "execution_count": null,
   "metadata": {
    "_uuid": "59ad9da159449a3ed9e99ed0ec931ee14b7aab66"
   },
   "outputs": [],
   "source": []
  },
  {
   "cell_type": "markdown",
   "metadata": {
    "_cell_guid": "3963de5c-1b2e-45ec-b499-4c404afa8595",
    "_uuid": "a73620b9d04cd7627e7da9961db541140dfd8467"
   },
   "source": [
    "<a id=\"23\"></a> <br>\n",
    "## Pytorch库中的人工神经网络.\n",
    "* Pytorch和keras一样是一种框架。\n",
    "* 它让创建和实现深度学习块更简单。\n",
    "* 人工神经网络: https://www.kaggle.com/kanncaa1/pytorch-tutorial-for-deep-learning-lovers"
   ]
  },
  {
   "cell_type": "markdown",
   "metadata": {
    "_cell_guid": "46ac06d5-1f74-4e8d-b7b6-189a1b7bf646",
    "_uuid": "b57204c8acc548963ad6be04f75baef0bf09219f"
   },
   "source": [
    "<a id=\"24\"></a> <br>\n",
    "## Pytorch库中的卷积神经网络\n",
    "* Pytorch和keras一样是一种框架。\n",
    "* 它让创建和实现深度学习块更简单。 \n",
    "* 卷积神经网络: https://www.kaggle.com/kanncaa1/pytorch-tutorial-for-deep-learning-lovers"
   ]
  },
  {
   "cell_type": "markdown",
   "metadata": {
    "_cell_guid": "d7273dad-b03c-453f-b444-d1a910d6d2a3",
    "_uuid": "e5c5e2dbf4d36428211699a43b819b2ea95600ea"
   },
   "source": [
    "<a id=\"25\"></a> <br>\n",
    "## Pytorch库中的循环神经网络\n",
    "* Pytorch和keras一样是一种框架。\n",
    "* 它让创建和实现深度学习块更简单。\n",
    "* 循环神经网络RNN: https://www.kaggle.com/kanncaa1/recurrent-neural-network-with-pytorch"
   ]
  },
  {
   "cell_type": "markdown",
   "metadata": {
    "_cell_guid": "1a62d8b1-8308-4654-bdfd-479965ee08af",
    "_uuid": "dc3f380e7953a5c3bb6580b30c0da7cb94599c81"
   },
   "source": [
    "<a id=\"20\"></a> <br>\n",
    "# 结论\n",
    "* 首先，感谢数据集的提供者\n",
    "* 如果，你看到有错误拼写，请无视它们，谢谢 ：）\n",
    "* 这篇指南是比较浅显的, 如果某些内容你需要更多细节可以评论.\n",
    "* 如果你觉得我某些内容没有解释清楚，你可以到 youtube上面学习（特别是吴恩达），然后继续。\n",
    "* 如果有些关于Python和机器学习的内容你理解不了，请看我其他的指南。\n",
    "    * 数据科学: https://www.kaggle.com/kanncaa1/data-sciencetutorial-for-beginners\n",
    "    * 机器学习: https://www.kaggle.com/kanncaa1/machine-learning-tutorial-for-beginners\n",
    "* 现在我希望你理解和学习什么是深度学习。然后，我们并不需要每次编写长长的代码来构建深度学习模型。因为有深度学习的框架可以简单快速地搭建学习模型。\n",
    "    * 人工神经网络: https://www.kaggle.com/kanncaa1/pytorch-tutorial-for-deep-learning-lovers\n",
    "    * 卷积神经网络: https://www.kaggle.com/kanncaa1/pytorch-tutorial-for-deep-learning-lovers\n",
    "    * 循环神经网络: https://www.kaggle.com/kanncaa1/recurrent-neural-network-with-pytorch\n",
    "     \n",
    "\n",
    "### <br>如果你喜欢他，请问作者点赞。\n",
    "## <br> 如果你有任何问题，我非常高兴听到他。\n"
   ]
  },
  {
   "cell_type": "code",
   "execution_count": null,
   "metadata": {},
   "outputs": [],
   "source": []
  }
 ],
 "metadata": {
  "kernelspec": {
   "display_name": "Python 3",
   "language": "python",
   "name": "python3"
  },
  "language_info": {
   "codemirror_mode": {
    "name": "ipython",
    "version": 3
   },
   "file_extension": ".py",
   "mimetype": "text/x-python",
   "name": "python",
   "nbconvert_exporter": "python",
   "pygments_lexer": "ipython3",
   "version": "3.6.9"
  }
 },
 "nbformat": 4,
 "nbformat_minor": 1
}
